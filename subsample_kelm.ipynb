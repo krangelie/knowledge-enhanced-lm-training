{
 "cells": [
  {
   "cell_type": "code",
   "execution_count": 1,
   "metadata": {},
   "outputs": [
    {
     "name": "stdout",
     "output_type": "stream",
     "text": [
      "Requirement already satisfied: jsonlines in /opt/homebrew/Caskroom/miniforge/base/envs/crisis_lm/lib/python3.8/site-packages (3.1.0)\n",
      "Requirement already satisfied: attrs>=19.2.0 in /opt/homebrew/Caskroom/miniforge/base/envs/crisis_lm/lib/python3.8/site-packages (from jsonlines) (21.4.0)\n",
      "Requirement already satisfied: tqdm in /opt/homebrew/Caskroom/miniforge/base/envs/crisis_lm/lib/python3.8/site-packages (4.64.1)\n"
     ]
    }
   ],
   "source": [
    "!pip install jsonlines\n",
    "!pip install tqdm\n",
    "\n",
    "import json\n",
    "import math\n",
    "import os\n",
    "\n",
    "import numpy as np\n",
    "import jsonlines"
   ]
  },
  {
   "cell_type": "code",
   "execution_count": 2,
   "metadata": {},
   "outputs": [],
   "source": [
    "kelm_path = \"../kelm/kelm_generated_corpus.jsonl\""
   ]
  },
  {
   "cell_type": "code",
   "execution_count": 3,
   "metadata": {},
   "outputs": [
    {
     "name": "stdout",
     "output_type": "stream",
     "text": [
      "15628486\n"
     ]
    }
   ],
   "source": [
    "with open(kelm_path) as json_file:\n",
    "    json_list = list(json_file)\n",
    "print(len(json_list))"
   ]
  },
  {
   "cell_type": "code",
   "execution_count": 4,
   "metadata": {},
   "outputs": [],
   "source": [
    "def subsample_kelm(kelm_json_list, out_dir, sample_ratio = 0.01):\n",
    "    count = len(kelm_json_list)\n",
    "    n_samples = math.ceil(count * sample_ratio)\n",
    "    np.random.seed(42)\n",
    "    sample_idxs = np.random.choice(count,n_samples)\n",
    "    new_kelm_json_list = []\n",
    "\n",
    "    for idx in sample_idxs:\n",
    "        sample = json.loads(kelm_json_list[idx])\n",
    "        sample[\"original_idx\"] = str(idx)\n",
    "        new_kelm_json_list += [sample]\n",
    "\n",
    "    assert len(new_kelm_json_list) == n_samples\n",
    "\n",
    "    os.makedirs(out_dir, exist_ok=True)\n",
    "    with open(os.path.join(out_dir, f\"kelm_subsampled_{sample_ratio}.jsonl\"), \"w\") as f:\n",
    "        for sample in new_kelm_json_list:\n",
    "            f.write(json.dumps(sample) + \"\\n\")\n",
    "\n",
    "    print(f\"Final subset contains {n_samples} from {count}.\")\n"
   ]
  },
  {
   "cell_type": "code",
   "execution_count": 5,
   "metadata": {},
   "outputs": [
    {
     "name": "stdout",
     "output_type": "stream",
     "text": [
      "Final subset contains 156285 from 15628486.\n"
     ]
    }
   ],
   "source": [
    "subsample_kelm(json_list, os.path.dirname(kelm_path))"
   ]
  },
  {
   "cell_type": "code",
   "execution_count": 12,
   "metadata": {},
   "outputs": [
    {
     "name": "stdout",
     "output_type": "stream",
     "text": [
      "Final subset contains 1562849 from 15628486.\n"
     ]
    }
   ],
   "source": [
    "subsample_kelm(json_list, os.path.dirname(kelm_path), sample_ratio=0.1)"
   ]
  },
  {
   "cell_type": "code",
   "execution_count": 6,
   "metadata": {},
   "outputs": [
    {
     "name": "stdout",
     "output_type": "stream",
     "text": [
      "Final subset contains 3907122 from 15628486.\n"
     ]
    }
   ],
   "source": [
    "subsample_kelm(json_list, os.path.dirname(kelm_path), sample_ratio=0.25)"
   ]
  },
  {
   "cell_type": "code",
   "execution_count": 7,
   "metadata": {},
   "outputs": [
    {
     "name": "stdout",
     "output_type": "stream",
     "text": [
      "Final subset contains 7814243 from 15628486.\n"
     ]
    }
   ],
   "source": [
    "subsample_kelm(json_list, os.path.dirname(kelm_path), sample_ratio=0.50)"
   ]
  },
  {
   "cell_type": "code",
   "execution_count": null,
   "metadata": {},
   "outputs": [],
   "source": []
  }
 ],
 "metadata": {
  "kernelspec": {
   "display_name": "crisis_lm",
   "language": "python",
   "name": "python3"
  },
  "language_info": {
   "codemirror_mode": {
    "name": "ipython",
    "version": 3
   },
   "file_extension": ".py",
   "mimetype": "text/x-python",
   "name": "python",
   "nbconvert_exporter": "python",
   "pygments_lexer": "ipython3",
   "version": "3.8.12"
  },
  "orig_nbformat": 4,
  "vscode": {
   "interpreter": {
    "hash": "3075aea6aaedcb3751c14613200d0e1344c1bf681850f20341e11d9c606e06fc"
   }
  }
 },
 "nbformat": 4,
 "nbformat_minor": 2
}
