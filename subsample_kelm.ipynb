{
 "cells": [
  {
   "cell_type": "code",
   "execution_count": 22,
   "metadata": {},
   "outputs": [],
   "source": [
    "import json\n",
    "import math\n",
    "import os\n",
    "\n",
    "import numpy as np\n",
    "import jsonlines\n",
    "from sklearn.model_selection import train_test_split"
   ]
  },
  {
   "cell_type": "code",
   "execution_count": 23,
   "metadata": {},
   "outputs": [],
   "source": [
    "kelm_path = \"../kelm/kelm_generated_corpus.jsonl\""
   ]
  },
  {
   "cell_type": "code",
   "execution_count": 24,
   "metadata": {},
   "outputs": [
    {
     "name": "stdout",
     "output_type": "stream",
     "text": [
      "15628486\n"
     ]
    }
   ],
   "source": [
    "with open(kelm_path) as json_file:\n",
    "    json_list = list(json_file)\n",
    "print(len(json_list))"
   ]
  },
  {
   "cell_type": "code",
   "execution_count": 28,
   "metadata": {},
   "outputs": [],
   "source": [
    "def extract_from_idxs(data_list, index_list, out_dir, sample_ratio):\n",
    "    os.makedirs(out_dir, exist_ok=True)\n",
    "    with open(os.path.join(out_dir, f\"subsampled_{sample_ratio}.jsonl\"), \"w\") as f:\n",
    "        for idx in index_list:\n",
    "            sample = json.loads(data_list[idx])\n",
    "            sample[\"original_idx\"] = str(idx)\n",
    "            f.write(json.dumps(sample) + \"\\n\")\n",
    "\n",
    "\n",
    "def subsample_kelm(kelm_json_list, out_dir, sample_ratio=0.01):\n",
    "    count = len(kelm_json_list)\n",
    "    n_samples = math.ceil(count * sample_ratio)\n",
    "    np.random.seed(42)\n",
    "    sample_idxs = np.random.choice(count,n_samples)\n",
    "\n",
    "    extract_from_idxs(kelm_json_list, sample_idxs, out_dir, sample_ratio)\n",
    "\n",
    "    print(f\"Final subset contains {n_samples} from {count}.\")\n"
   ]
  },
  {
   "attachments": {},
   "cell_type": "markdown",
   "metadata": {},
   "source": [
    "# First create hold-out set"
   ]
  },
  {
   "cell_type": "code",
   "execution_count": 30,
   "metadata": {},
   "outputs": [],
   "source": [
    "train_idxs, test_idxs = train_test_split(range(len(json_list)), test_size=0.0001, random_state=42)\n",
    "with open(os.path.join(os.path.dirname(kelm_path), 'kelm_holdout_indices_ratio0.0001_seed42.txt'), 'w') as f:\n",
    "    for i in test_idxs:\n",
    "        f.write(str(i))\n",
    "        f.write(\"\\n\")\n"
   ]
  },
  {
   "cell_type": "code",
   "execution_count": 31,
   "metadata": {},
   "outputs": [],
   "source": [
    "extract_from_idxs(json_list, test_idxs, os.path.join(os.path.dirname(kelm_path), \"holdout_split\"), 0.0001)\n",
    "extract_from_idxs(json_list, train_idxs, os.path.join(os.path.dirname(kelm_path), \"dev_split\"), 0.9999)"
   ]
  },
  {
   "attachments": {},
   "cell_type": "markdown",
   "metadata": {},
   "source": [
    "# Create subsets of the dev set (to analyze impact of train data size)"
   ]
  },
  {
   "cell_type": "code",
   "execution_count": null,
   "metadata": {},
   "outputs": [],
   "source": [
    "# load new dev set\n",
    "dev_set_path = \"../kelm/dev_split/\"\n",
    "with open(dev_set_path) as json_file:\n",
    "    dev_json_list = list(json_file)"
   ]
  },
  {
   "cell_type": "code",
   "execution_count": null,
   "metadata": {},
   "outputs": [],
   "source": [
    "out_dir = os.path.join(os.path.dirname(dev_set_path))"
   ]
  },
  {
   "cell_type": "code",
   "execution_count": 5,
   "metadata": {},
   "outputs": [
    {
     "name": "stdout",
     "output_type": "stream",
     "text": [
      "Final subset contains 156285 from 15628486.\n"
     ]
    }
   ],
   "source": [
    "subsample_kelm(dev_json_list, os.path.dirname(kelm_path))"
   ]
  },
  {
   "cell_type": "code",
   "execution_count": 12,
   "metadata": {},
   "outputs": [
    {
     "name": "stdout",
     "output_type": "stream",
     "text": [
      "Final subset contains 1562849 from 15628486.\n"
     ]
    }
   ],
   "source": [
    "subsample_kelm(dev_json_list, os.path.dirname(kelm_path), sample_ratio=0.1)"
   ]
  },
  {
   "cell_type": "code",
   "execution_count": 6,
   "metadata": {},
   "outputs": [
    {
     "name": "stdout",
     "output_type": "stream",
     "text": [
      "Final subset contains 3907122 from 15628486.\n"
     ]
    }
   ],
   "source": [
    "subsample_kelm(dev_json_list, os.path.dirname(kelm_path), sample_ratio=0.25)"
   ]
  },
  {
   "cell_type": "code",
   "execution_count": 7,
   "metadata": {},
   "outputs": [
    {
     "name": "stdout",
     "output_type": "stream",
     "text": [
      "Final subset contains 7814243 from 15628486.\n"
     ]
    }
   ],
   "source": [
    "subsample_kelm(dev_json_list, os.path.dirname(kelm_path), sample_ratio=0.50)"
   ]
  },
  {
   "cell_type": "code",
   "execution_count": null,
   "metadata": {},
   "outputs": [],
   "source": []
  }
 ],
 "metadata": {
  "kernelspec": {
   "display_name": "crisis_lm",
   "language": "python",
   "name": "python3"
  },
  "language_info": {
   "codemirror_mode": {
    "name": "ipython",
    "version": 3
   },
   "file_extension": ".py",
   "mimetype": "text/x-python",
   "name": "python",
   "nbconvert_exporter": "python",
   "pygments_lexer": "ipython3",
   "version": "3.8.12"
  },
  "orig_nbformat": 4,
  "vscode": {
   "interpreter": {
    "hash": "3075aea6aaedcb3751c14613200d0e1344c1bf681850f20341e11d9c606e06fc"
   }
  }
 },
 "nbformat": 4,
 "nbformat_minor": 2
}
