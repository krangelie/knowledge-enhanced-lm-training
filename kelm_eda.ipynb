{
 "cells": [
  {
   "cell_type": "code",
   "execution_count": 1,
   "metadata": {},
   "outputs": [
    {
     "name": "stdout",
     "output_type": "stream",
     "text": [
      "Requirement already satisfied: jsonlines in /opt/homebrew/Caskroom/miniforge/base/envs/crisis_lm/lib/python3.8/site-packages (3.1.0)\n",
      "Requirement already satisfied: attrs>=19.2.0 in /opt/homebrew/Caskroom/miniforge/base/envs/crisis_lm/lib/python3.8/site-packages (from jsonlines) (21.4.0)\n",
      "Requirement already satisfied: sparqlwrapper in /opt/homebrew/Caskroom/miniforge/base/envs/crisis_lm/lib/python3.8/site-packages (2.0.0)\n",
      "Requirement already satisfied: rdflib>=6.1.1 in /opt/homebrew/Caskroom/miniforge/base/envs/crisis_lm/lib/python3.8/site-packages (from sparqlwrapper) (6.2.0)\n",
      "Requirement already satisfied: setuptools in /opt/homebrew/Caskroom/miniforge/base/envs/crisis_lm/lib/python3.8/site-packages (from rdflib>=6.1.1->sparqlwrapper) (60.5.0)\n",
      "Requirement already satisfied: pyparsing in /opt/homebrew/Caskroom/miniforge/base/envs/crisis_lm/lib/python3.8/site-packages (from rdflib>=6.1.1->sparqlwrapper) (3.0.7)\n",
      "Requirement already satisfied: isodate in /opt/homebrew/Caskroom/miniforge/base/envs/crisis_lm/lib/python3.8/site-packages (from rdflib>=6.1.1->sparqlwrapper) (0.6.1)\n",
      "Requirement already satisfied: six in /opt/homebrew/Caskroom/miniforge/base/envs/crisis_lm/lib/python3.8/site-packages (from isodate->rdflib>=6.1.1->sparqlwrapper) (1.16.0)\n",
      "Requirement already satisfied: tqdm in /opt/homebrew/Caskroom/miniforge/base/envs/crisis_lm/lib/python3.8/site-packages (4.64.1)\n"
     ]
    }
   ],
   "source": [
    "!pip install jsonlines\n",
    "!pip install sparqlwrapper\n",
    "!pip install tqdm\n",
    "\n",
    "import json\n",
    "\n",
    "from SPARQLWrapper import SPARQLWrapper, JSON\n",
    "import jsonlines\n",
    "import pandas as pd\n",
    "from tqdm import tqdm"
   ]
  },
  {
   "cell_type": "code",
   "execution_count": 2,
   "metadata": {},
   "outputs": [],
   "source": [
    "kelm_path = \"../kelm/kelm_generated_corpus.jsonl\"\n",
    "kelm_entities_path = \"../kelm/entities.jsonl\""
   ]
  },
  {
   "cell_type": "code",
   "execution_count": 3,
   "metadata": {},
   "outputs": [
    {
     "name": "stdout",
     "output_type": "stream",
     "text": [
      "{\"triples\": [[\"Valentin Lavigne\", \"member of sports team\", \"FC Lorient\"], [\"Valentin Lavigne\", \"FC Lorient\", \"start time\", \"01 January 2014\"], [\"Valentin Lavigne\", \"FC Lorient\", \"end time\", \"01 January 2016\"]], \"serialized_triples\": \"Valentin Lavigne member of sports team FC Lorient, FC Lorient end time 01 January 2016, FC Lorient start time 01 January 2014.\", \"gen_sentence\": \"Valentin Lavigne played for FC Lorient between 2014 and 2016.\"}\n",
      "\n"
     ]
    }
   ],
   "source": [
    "with open(kelm_path) as json_file:\n",
    "    json_list = list(json_file)\n",
    "print(json_list[0])"
   ]
  },
  {
   "attachments": {},
   "cell_type": "markdown",
   "metadata": {},
   "source": [
    "Todo:\n",
    "\n",
    "- [] get all person examples about person entities and give gender distribution\n",
    "- [] get all location examples and determine global distribution"
   ]
  },
  {
   "cell_type": "code",
   "execution_count": 13,
   "metadata": {},
   "outputs": [
    {
     "data": {
      "text/plain": [
       "15628486"
      ]
     },
     "execution_count": 13,
     "metadata": {},
     "output_type": "execute_result"
    }
   ],
   "source": [
    "len(json_list)"
   ]
  },
  {
   "attachments": {},
   "cell_type": "markdown",
   "metadata": {},
   "source": [
    "# Analyze gender distribution"
   ]
  },
  {
   "cell_type": "code",
   "execution_count": 4,
   "metadata": {},
   "outputs": [],
   "source": [
    "user_agent = ''\n",
    "sparql = SPARQLWrapper(\"https://query.wikidata.org/sparql\", agent=user_agent)\n",
    "\n",
    "def query_entity(wiki_id):\n",
    "  sparql.setQuery(f\"\"\"\n",
    "  SELECT DISTINCT ?item ?itemLabel ?type ?typeLabel ?gender ?genderLabel\n",
    "  WHERE \n",
    "  {{\n",
    "    VALUES ?item {{  wd:{wiki_id} }}\n",
    "    ?item wdt:P31 ?type.\n",
    "    OPTIONAL {{?item wdt:P21 ?gender.}}\n",
    "    SERVICE wikibase:label {{ bd:serviceParam wikibase:language \"[AUTO_LANGUAGE],en\". }}\n",
    "  }}\n",
    "  \"\"\")\n",
    "  sparql.setReturnFormat(JSON)\n",
    "  query_result = sparql.query().convert()\n",
    "  results = {}\n",
    "  if len(query_result[\"results\"][\"bindings\"]) > 0:\n",
    "    type_label = query_result[\"results\"][\"bindings\"][0][\"typeLabel\"][\"value\"]\n",
    "    results[\"type\"] = type_label\n",
    "    if type_label == \"human\":\n",
    "      try:\n",
    "        results[\"gender\"] = query_result[\"results\"][\"bindings\"][0][\"genderLabel\"][\"value\"]\n",
    "      except:\n",
    "        results[\"gender\"] = \"\"\n",
    "    else:\n",
    "      results[\"gender\"] = \"\"\n",
    "    return results\n",
    "  else:\n",
    "    return None\n"
   ]
  },
  {
   "cell_type": "code",
   "execution_count": 5,
   "metadata": {},
   "outputs": [],
   "source": [
    "last_written_idx = 62292"
   ]
  },
  {
   "cell_type": "code",
   "execution_count": 6,
   "metadata": {},
   "outputs": [
    {
     "name": "stderr",
     "output_type": "stream",
     "text": [
      "  1%|          | 73121/6902305 [36:19<333:30:31,  5.69it/s] "
     ]
    }
   ],
   "source": [
    "\n",
    "with open(kelm_entities_path) as json_file:\n",
    "    json_list = list(json_file)\n",
    "    gendered_entities = 0\n",
    "    for i, json_str in enumerate(tqdm(json_list)):\n",
    "        if i > last_written_idx:\n",
    "            item = json.loads(json_str)\n",
    "            wiki_id = item[\"id\"]\n",
    "            if wiki_id.startswith(\"Q\"): \n",
    "                query_results = query_entity(wiki_id) \n",
    "                if query_results is not None:\n",
    "                    item[\"type_label\"] = query_results[\"type\"]\n",
    "                    item[\"gender_label\"] = query_results[\"gender\"]\n",
    "                    with jsonlines.open('gendered_entities.jsonl', mode='a') as writer:\n",
    "                        writer.write([item])\n",
    "       "
   ]
  },
  {
   "cell_type": "code",
   "execution_count": null,
   "metadata": {},
   "outputs": [],
   "source": []
  }
 ],
 "metadata": {
  "kernelspec": {
   "display_name": "crisis_lm",
   "language": "python",
   "name": "python3"
  },
  "language_info": {
   "codemirror_mode": {
    "name": "ipython",
    "version": 3
   },
   "file_extension": ".py",
   "mimetype": "text/x-python",
   "name": "python",
   "nbconvert_exporter": "python",
   "pygments_lexer": "ipython3",
   "version": "3.8.12"
  },
  "orig_nbformat": 4,
  "vscode": {
   "interpreter": {
    "hash": "3075aea6aaedcb3751c14613200d0e1344c1bf681850f20341e11d9c606e06fc"
   }
  }
 },
 "nbformat": 4,
 "nbformat_minor": 2
}
