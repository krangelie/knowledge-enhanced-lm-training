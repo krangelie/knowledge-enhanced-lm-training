{
 "cells": [
  {
   "cell_type": "code",
   "execution_count": 1,
   "metadata": {},
   "outputs": [
    {
     "name": "stdout",
     "output_type": "stream",
     "text": [
      "Defaulting to user installation because normal site-packages is not writeable\n",
      "Collecting jsonlines\n",
      "  Using cached jsonlines-3.1.0-py3-none-any.whl (8.6 kB)\n",
      "Requirement already satisfied: attrs>=19.2.0 in /Users/angeliekraft/Library/Python/3.8/lib/python/site-packages (from jsonlines) (22.2.0)\n",
      "Installing collected packages: jsonlines\n",
      "Successfully installed jsonlines-3.1.0\n",
      "\u001b[33mWARNING: You are using pip version 21.3.1; however, version 23.0.1 is available.\n",
      "You should consider upgrading via the '/Library/Developer/CommandLineTools/usr/bin/python3 -m pip install --upgrade pip' command.\u001b[0m\n",
      "Defaulting to user installation because normal site-packages is not writeable\n",
      "Collecting sparqlwrapper\n",
      "  Using cached SPARQLWrapper-2.0.0-py3-none-any.whl (28 kB)\n",
      "Collecting rdflib>=6.1.1\n",
      "  Using cached rdflib-6.2.0-py3-none-any.whl (500 kB)\n",
      "Collecting isodate\n",
      "  Using cached isodate-0.6.1-py2.py3-none-any.whl (41 kB)\n",
      "Requirement already satisfied: setuptools in /Library/Developer/CommandLineTools/Library/Frameworks/Python3.framework/Versions/3.8/lib/python3.8/site-packages (from rdflib>=6.1.1->sparqlwrapper) (49.2.1)\n",
      "Collecting pyparsing\n",
      "  Using cached pyparsing-3.0.9-py3-none-any.whl (98 kB)\n",
      "Requirement already satisfied: six in /Library/Developer/CommandLineTools/Library/Frameworks/Python3.framework/Versions/3.8/lib/python3.8/site-packages (from isodate->rdflib>=6.1.1->sparqlwrapper) (1.15.0)\n",
      "Installing collected packages: pyparsing, isodate, rdflib, sparqlwrapper\n",
      "Successfully installed isodate-0.6.1 pyparsing-3.0.9 rdflib-6.2.0 sparqlwrapper-2.0.0\n",
      "\u001b[33mWARNING: You are using pip version 21.3.1; however, version 23.0.1 is available.\n",
      "You should consider upgrading via the '/Library/Developer/CommandLineTools/usr/bin/python3 -m pip install --upgrade pip' command.\u001b[0m\n",
      "Defaulting to user installation because normal site-packages is not writeable\n",
      "Requirement already satisfied: tqdm in /Users/angeliekraft/Library/Python/3.8/lib/python/site-packages (4.64.1)\n",
      "\u001b[33mWARNING: You are using pip version 21.3.1; however, version 23.0.1 is available.\n",
      "You should consider upgrading via the '/Library/Developer/CommandLineTools/usr/bin/python3 -m pip install --upgrade pip' command.\u001b[0m\n"
     ]
    }
   ],
   "source": [
    "!pip install jsonlines\n",
    "!pip install sparqlwrapper\n",
    "!pip install tqdm\n",
    "\n",
    "import json\n",
    "\n",
    "from SPARQLWrapper import SPARQLWrapper, JSON\n",
    "import jsonlines\n",
    "import pandas as pd\n",
    "from tqdm import tqdm"
   ]
  },
  {
   "attachments": {},
   "cell_type": "markdown",
   "metadata": {},
   "source": [
    "# Analyze Wikidata gender distribution"
   ]
  },
  {
   "cell_type": "code",
   "execution_count": 33,
   "metadata": {},
   "outputs": [],
   "source": [
    "entity_path = \"../../wikidata_humans/wikidata_all_human_entities.jsonl\""
   ]
  },
  {
   "cell_type": "code",
   "execution_count": 34,
   "metadata": {},
   "outputs": [
    {
     "name": "stdout",
     "output_type": "stream",
     "text": [
      "10211951\n"
     ]
    }
   ],
   "source": [
    "with open(entity_path) as json_file:\n",
    "    ent_list = list(json_file)\n",
    "    print(len(ent_list))"
   ]
  },
  {
   "cell_type": "code",
   "execution_count": 35,
   "metadata": {
    "collapsed": false,
    "pycharm": {
     "name": "#%%\n"
    }
   },
   "outputs": [],
   "source": [
    "ids = []\n",
    "genders = []\n",
    "dobs = []\n",
    "pobs = []\n",
    "with open(entity_path) as json_file:\n",
    "    ent_list = list(json_file)\n",
    "\n",
    "for entry in ent_list:\n",
    "      entry = json.loads(entry)\n",
    "      ids += [entry[\"entity_id\"]]\n",
    "      genders += [entry[\"gender\"]]\n",
    "      dobs += [entry[\"DOB\"]]\n",
    "      pobs += [entry[\"POB\"]]\n"
   ]
  },
  {
   "attachments": {},
   "cell_type": "markdown",
   "metadata": {},
   "source": [
    "### a) Load gender map from json"
   ]
  },
  {
   "cell_type": "code",
   "execution_count": 36,
   "metadata": {},
   "outputs": [],
   "source": [
    "with open(\"wikidata_genders.json\", \"r\") as f:\n",
    "    gender_map = json.load(f)[\"map\"]"
   ]
  },
  {
   "attachments": {},
   "cell_type": "markdown",
   "metadata": {},
   "source": [
    "### b) Create gender map through SPARQL queries"
   ]
  },
  {
   "cell_type": "code",
   "execution_count": null,
   "metadata": {},
   "outputs": [],
   "source": [
    "user_agent = 'AngelieKraftUHH (angelie.kraft@uni-hamburg.de)'\n",
    "sparql = SPARQLWrapper(\"https://query.wikidata.org/sparql\", agent=user_agent)"
   ]
  },
  {
   "cell_type": "code",
   "execution_count": null,
   "metadata": {},
   "outputs": [],
   "source": [
    "gender_map = {}\n",
    "for g in list(set(genders)):\n",
    "    sparql.setQuery(f\"\"\"\n",
    "    SELECT  *\n",
    "    WHERE \n",
    "    {{\n",
    "        wd:{g} rdfs:label ?label .\n",
    "        FILTER (langMatches( lang(?label), \"EN\" ) )\n",
    "    }}\n",
    "    \"\"\")\n",
    "    sparql.setReturnFormat(JSON)\n",
    "    query_result = sparql.query().convert()\n",
    "\n",
    "    try:\n",
    "        gender_map[g] = query_result[\"results\"][\"bindings\"][0][\"label\"][\"value\"]\n",
    "    except:\n",
    "        pass\n",
    "  "
   ]
  },
  {
   "cell_type": "code",
   "execution_count": null,
   "metadata": {},
   "outputs": [],
   "source": [
    "gender_map[\"\"] = \"unknown\""
   ]
  },
  {
   "attachments": {},
   "cell_type": "markdown",
   "metadata": {},
   "source": [
    "### Compute frequencies"
   ]
  },
  {
   "cell_type": "code",
   "execution_count": 37,
   "metadata": {},
   "outputs": [
    {
     "data": {
      "text/plain": [
       "{'male': 6140593,\n",
       " 'female': 1988367,\n",
       " 'trans woman': 1387,\n",
       " 'unknown': 2080255,\n",
       " 'non-binary': 588,\n",
       " 'trans man': 310,\n",
       " 'intersex': 76,\n",
       " 'faʻafafine': 5,\n",
       " 'hijra': 3,\n",
       " 'eunuch': 142,\n",
       " 'agender': 19,\n",
       " 'androgyne': 3,\n",
       " 'genderqueer': 39,\n",
       " 'undisclosed gender': 1,\n",
       " 'transgender': 24,\n",
       " 'genderfluid': 44,\n",
       " 'travesti': 4,\n",
       " 'cisgender female': 21,\n",
       " 'two-spirit': 16,\n",
       " 'transmasculine': 8,\n",
       " 'bigender': 6,\n",
       " 'assigned male at birth': 1,\n",
       " 'neutrois': 4,\n",
       " 'indefinite': 1,\n",
       " 'takatāpui': 3,\n",
       " 'female organism': 5,\n",
       " 'transfeminine': 6,\n",
       " 'Jamaica': 1,\n",
       " 'neutral sex': 5,\n",
       " 'muxe': 2,\n",
       " 'intersex person': 3,\n",
       " 'pangender': 1,\n",
       " 'queer': 1,\n",
       " 'Alien': 1,\n",
       " 'māhū': 1,\n",
       " 'X-gender': 1,\n",
       " 'demiboy': 1,\n",
       " \"'akava'ine\": 1,\n",
       " 'vakasalewalewa': 1,\n",
       " 'third gender': 1}"
      ]
     },
     "execution_count": 37,
     "metadata": {},
     "output_type": "execute_result"
    }
   ],
   "source": [
    "from collections import Counter\n",
    "\n",
    "genders_decoded = [gender_map[g] for g in genders]\n",
    "gender_frequencies = dict(Counter(genders_decoded))\n",
    "gender_frequencies"
   ]
  },
  {
   "attachments": {},
   "cell_type": "markdown",
   "metadata": {},
   "source": [
    "### Group certain gender groups for visualization"
   ]
  },
  {
   "cell_type": "code",
   "execution_count": 38,
   "metadata": {},
   "outputs": [],
   "source": [
    "keys = [\"female\", \"male\", \"unknown\", \"non-binary/agender/other\"]\n",
    "grouped_frequencies = dict(zip(keys, [0]*len(keys)))\n",
    "for k,v in gender_frequencies.items():\n",
    "    if k in [\"trans man\", \"male\"]:\n",
    "        grouped_frequencies[\"male\"] += v\n",
    "    elif k in [\"trans woman\", \"female\", \"cisgender female\"]:\n",
    "        grouped_frequencies[\"female\"] += v\n",
    "    elif k in [\"unknown\", \"undisclosed gender\"]:\n",
    "        grouped_frequencies[\"unknown\"] += v\n",
    "    else:\n",
    "        grouped_frequencies[\"non-binary/agender/other\"] += v"
   ]
  },
  {
   "cell_type": "code",
   "execution_count": 39,
   "metadata": {},
   "outputs": [],
   "source": [
    "grouped_frequencies = {\"unknown\": grouped_frequencies[\"unknown\"], \"male\": grouped_frequencies[\"male\"], \"non-binary/agender/other\": grouped_frequencies[\"non-binary/agender/other\"], \"female\": grouped_frequencies[\"female\"]}"
   ]
  },
  {
   "cell_type": "code",
   "execution_count": null,
   "metadata": {},
   "outputs": [],
   "source": [
    "sum(grouped_frequencies.values())"
   ]
  },
  {
   "cell_type": "code",
   "execution_count": 15,
   "metadata": {},
   "outputs": [
    {
     "name": "stdout",
     "output_type": "stream",
     "text": [
      "Requirement already satisfied: matplotlib in /opt/homebrew/Caskroom/miniforge/base/envs/crisis_lm/lib/python3.8/site-packages (3.6.3)\n",
      "Requirement already satisfied: seaborn in /opt/homebrew/Caskroom/miniforge/base/envs/crisis_lm/lib/python3.8/site-packages (0.12.2)\n",
      "Requirement already satisfied: pillow>=6.2.0 in /opt/homebrew/Caskroom/miniforge/base/envs/crisis_lm/lib/python3.8/site-packages (from matplotlib) (9.4.0)\n",
      "Requirement already satisfied: kiwisolver>=1.0.1 in /opt/homebrew/Caskroom/miniforge/base/envs/crisis_lm/lib/python3.8/site-packages (from matplotlib) (1.4.4)\n",
      "Requirement already satisfied: contourpy>=1.0.1 in /opt/homebrew/Caskroom/miniforge/base/envs/crisis_lm/lib/python3.8/site-packages (from matplotlib) (1.0.7)\n",
      "Requirement already satisfied: numpy>=1.19 in /opt/homebrew/Caskroom/miniforge/base/envs/crisis_lm/lib/python3.8/site-packages (from matplotlib) (1.22.1)\n",
      "Requirement already satisfied: cycler>=0.10 in /opt/homebrew/Caskroom/miniforge/base/envs/crisis_lm/lib/python3.8/site-packages (from matplotlib) (0.11.0)\n",
      "Requirement already satisfied: python-dateutil>=2.7 in /opt/homebrew/Caskroom/miniforge/base/envs/crisis_lm/lib/python3.8/site-packages (from matplotlib) (2.8.2)\n",
      "Requirement already satisfied: fonttools>=4.22.0 in /opt/homebrew/Caskroom/miniforge/base/envs/crisis_lm/lib/python3.8/site-packages (from matplotlib) (4.38.0)\n",
      "Requirement already satisfied: packaging>=20.0 in /opt/homebrew/Caskroom/miniforge/base/envs/crisis_lm/lib/python3.8/site-packages (from matplotlib) (21.3)\n",
      "Requirement already satisfied: pyparsing>=2.2.1 in /opt/homebrew/Caskroom/miniforge/base/envs/crisis_lm/lib/python3.8/site-packages (from matplotlib) (3.0.7)\n",
      "Requirement already satisfied: pandas>=0.25 in /opt/homebrew/Caskroom/miniforge/base/envs/crisis_lm/lib/python3.8/site-packages (from seaborn) (1.4.0)\n",
      "Requirement already satisfied: pytz>=2020.1 in /opt/homebrew/Caskroom/miniforge/base/envs/crisis_lm/lib/python3.8/site-packages (from pandas>=0.25->seaborn) (2021.3)\n",
      "Requirement already satisfied: six>=1.5 in /opt/homebrew/Caskroom/miniforge/base/envs/crisis_lm/lib/python3.8/site-packages (from python-dateutil>=2.7->matplotlib) (1.16.0)\n"
     ]
    }
   ],
   "source": [
    "\n",
    "!pip install matplotlib seaborn\n",
    "import matplotlib.pyplot as plt\n",
    "import seaborn as sns\n",
    "import numpy as np"
   ]
  },
  {
   "cell_type": "code",
   "execution_count": 40,
   "metadata": {},
   "outputs": [
    {
     "data": {
      "image/png": "[encoded data removed]",
      "text/plain": [
       "<Figure size 432x216 with 1 Axes>"
      ]
     },
     "metadata": {},
     "output_type": "display_data"
    }
   ],
   "source": [
    "fig, ax = plt.subplots(figsize=(6, 3), subplot_kw=dict(aspect=\"equal\"))\n",
    "total = sum(grouped_frequencies.values())\n",
    "labels = [\"/\\n\".join(k.split(\"/\")) for k, v in grouped_frequencies.items()]\n",
    "\n",
    "def my_autopct(pct):\n",
    "    return ('%.1f' % pct) + \"%\" if pct > 1 else '<1.0%'\n",
    "explode = (0, 0, 0, 0.2, 0.2, 0.2)\n",
    "#plt.pie(grouped_frequencies.values(), labels=labels,  explode=[0.10]*len(grouped_frequencies), autopct=my_autopct)\n",
    "wedges, texts  = ax.pie(grouped_frequencies.values(), wedgeprops=dict(width=0.5), startangle=-40, colors=sns.color_palette(\"colorblind\"))\n",
    "\n",
    "kw = dict(arrowprops=dict(arrowstyle=\"-\"), va=\"center\")\n",
    "\n",
    "for i, p in enumerate(wedges):\n",
    "    ang = (p.theta2 - p.theta1)/2. + p.theta1\n",
    "    y = np.sin(np.deg2rad(ang))\n",
    "    x = np.cos(np.deg2rad(ang))\n",
    "    horizontalalignment = {-1: \"right\", 1: \"left\"}[int(np.sign(x))]\n",
    "    connectionstyle = \"angle,angleA=0,angleB={}\".format(ang)\n",
    "    kw[\"arrowprops\"].update({\"connectionstyle\": connectionstyle})\n",
    "    ax.annotate(f\"{labels[i]} {my_autopct(list(grouped_frequencies.values())[i] / total * 100)}\", xy=(x, y), xytext=(1.35*np.sign(x), 1.4*y),\n",
    "                horizontalalignment=horizontalalignment, **kw)\n",
    "\n",
    "#plt.legend(patches, labels, loc='left center', bbox_to_anchor=(-0.1, 1.),\n",
    "#           fontsize=8)\n",
    "plt.savefig('wikidata_gender_distr_Oct2022.png', dpi=300)\n",
    "plt.tight_layout()\n",
    "plt.show()"
   ]
  },
  {
   "cell_type": "code",
   "execution_count": null,
   "metadata": {},
   "outputs": [],
   "source": [
    "save_dict = {}\n",
    "save_dict[\"map\"] = gender_map\n",
    "save_dict[\"frequencies\"] = gender_frequencies\n",
    "save_dict[\"grouped_frequencies\"] = grouped_frequencies\n",
    "\n",
    "with open(\"wikidata_genders.json\", \"w\") as f:\n",
    "    json.dump(save_dict, f)"
   ]
  },
  {
   "attachments": {},
   "cell_type": "markdown",
   "metadata": {},
   "source": [
    "# Analyze bias in KELM entities"
   ]
  },
  {
   "cell_type": "code",
   "execution_count": 9,
   "metadata": {},
   "outputs": [],
   "source": [
    "kelm_wikidata_matched_path = \"../../wikidata_humans/kelm_person_entities_matched_genders.jsonl\""
   ]
  },
  {
   "cell_type": "code",
   "execution_count": 10,
   "metadata": {},
   "outputs": [],
   "source": [
    "with open(kelm_wikidata_matched_path) as json_file:\n",
    "    kelm_ent_list = list(json_file)"
   ]
  },
  {
   "cell_type": "code",
   "execution_count": 70,
   "metadata": {},
   "outputs": [
    {
     "name": "stderr",
     "output_type": "stream",
     "text": [
      " 22%|██▏       | 398648/1811976 [42:43<2:31:28, 155.50it/s]\n"
     ]
    }
   ],
   "source": [
    "keys = [\"female\", \"trans woman\", \"male\",  \"trans man\", \"unknown\", \"non-binary/agender/other\"]\n",
    "kelm_grouped_frequencies = dict(zip(keys, [0]*len(keys)))\n",
    "#gender_df = pd.DataFrame()\n",
    "for i, ent in enumerate(tqdm(kelm_ent_list)):\n",
    "    ent_unpacked = json.loads(ent)\n",
    "    g = ent_unpacked[\"gender\"]\n",
    "    #gender_df.loc[i, [\"id\", \"gender\"]] = ent_unpacked[\"id\"], g\n",
    "    if g in [\"female\", \"cisgender female\"]:\n",
    "        kelm_grouped_frequencies[\"female\"] += 1\n",
    "    elif g in [\"unknown\", \"undisclosed gender\"]:\n",
    "        kelm_grouped_frequencies[\"unknown\"] += 1\n",
    "    elif g in [\"male\", \"trans woman\", \"trans man\"]:\n",
    "        kelm_grouped_frequencies[g] += 1\n",
    "    else:\n",
    "        kelm_grouped_frequencies[\"non-binary/agender/other\"] += 1"
   ]
  },
  {
   "cell_type": "code",
   "execution_count": null,
   "metadata": {},
   "outputs": [],
   "source": [
    "sns.countplot(x=gender_df[\"gender\"])"
   ]
  },
  {
   "cell_type": "code",
   "execution_count": 12,
   "metadata": {},
   "outputs": [
    {
     "data": {
      "text/plain": [
       "{'female': 342724,\n",
       " 'male': 1466593,\n",
       " 'unknown': 2280,\n",
       " 'non-binary/agender/other': 379}"
      ]
     },
     "execution_count": 12,
     "metadata": {},
     "output_type": "execute_result"
    }
   ],
   "source": [
    "kelm_grouped_frequencies"
   ]
  },
  {
   "cell_type": "code",
   "execution_count": 13,
   "metadata": {},
   "outputs": [
    {
     "name": "stdout",
     "output_type": "stream",
     "text": [
      "female 0.1891437855689038\n",
      "male 0.8093887557009585\n",
      "unknown 0.0012582948118518126\n",
      "non-binary/agender/other 0.0002091639182858934\n"
     ]
    }
   ],
   "source": [
    "for k, v in kelm_grouped_frequencies.items():\n",
    "    print(k, v / 1811976)"
   ]
  },
  {
   "cell_type": "code",
   "execution_count": 59,
   "metadata": {},
   "outputs": [],
   "source": [
    "kelm_grouped_frequencies = {k: v for k, v in sorted(kelm_grouped_frequencies.items(), key=lambda item: item[1], reverse=True)}"
   ]
  },
  {
   "cell_type": "code",
   "execution_count": 60,
   "metadata": {},
   "outputs": [
    {
     "data": {
      "text/html": [
       "<div>\n",
       "<style scoped>\n",
       "    .dataframe tbody tr th:only-of-type {\n",
       "        vertical-align: middle;\n",
       "    }\n",
       "\n",
       "    .dataframe tbody tr th {\n",
       "        vertical-align: top;\n",
       "    }\n",
       "\n",
       "    .dataframe thead th {\n",
       "        text-align: right;\n",
       "    }\n",
       "</style>\n",
       "<table border=\"1\" class=\"dataframe\">\n",
       "  <thead>\n",
       "    <tr style=\"text-align: right;\">\n",
       "      <th></th>\n",
       "      <th>male</th>\n",
       "      <th>female</th>\n",
       "      <th>unknown</th>\n",
       "      <th>non-binary/agender/other</th>\n",
       "    </tr>\n",
       "  </thead>\n",
       "  <tbody>\n",
       "    <tr>\n",
       "      <th>0</th>\n",
       "      <td>1466593.0</td>\n",
       "      <td>342724.0</td>\n",
       "      <td>2280.0</td>\n",
       "      <td>379.0</td>\n",
       "    </tr>\n",
       "  </tbody>\n",
       "</table>\n",
       "</div>"
      ],
      "text/plain": [
       "        male    female  unknown  non-binary/agender/other\n",
       "0  1466593.0  342724.0   2280.0                     379.0"
      ]
     },
     "execution_count": 60,
     "metadata": {},
     "output_type": "execute_result"
    }
   ],
   "source": [
    "df = pd.DataFrame()\n",
    "for k, v in kelm_grouped_frequencies.items():\n",
    "    df.loc[0,k] = v\n",
    "df"
   ]
  },
  {
   "cell_type": "code",
   "execution_count": 69,
   "metadata": {},
   "outputs": [
    {
     "data": {
      "image/png": "[encoded data removed]",
      "text/plain": [
       "<Figure size 432x288 with 1 Axes>"
      ]
     },
     "metadata": {
      "needs_background": "light"
     },
     "output_type": "display_data"
    }
   ],
   "source": [
    "sns.countplot(df)\n",
    "plt.tight_layout()\n"
   ]
  },
  {
   "cell_type": "code",
   "execution_count": 21,
   "metadata": {},
   "outputs": [],
   "source": [
    "kelm_grouped_frequencies = {\"unknown\": kelm_grouped_frequencies[\"unknown\"], \"male\": kelm_grouped_frequencies[\"male\"], \"non-binary/agender/other\": kelm_grouped_frequencies[\"non-binary/agender/other\"], \"female\": kelm_grouped_frequencies[\"female\"]}"
   ]
  },
  {
   "cell_type": "code",
   "execution_count": 25,
   "metadata": {},
   "outputs": [
    {
     "data": {
      "image/png": "[encoded data removed]",
      "text/plain": [
       "<Figure size 432x216 with 1 Axes>"
      ]
     },
     "metadata": {},
     "output_type": "display_data"
    }
   ],
   "source": [
    "fig, ax = plt.subplots(figsize=(6, 3), subplot_kw=dict(aspect=\"equal\"))\n",
    "total = sum(kelm_grouped_frequencies.values())\n",
    "labels = [\"/\\n\".join(k.split(\"/\")) for k, v in kelm_grouped_frequencies.items()]\n",
    "#labels = list(grouped_frequencies.keys())\n",
    "#sns.set(rc={'axes.facecolor':'black', 'figure.facecolor':'white'})\n",
    "def my_autopct(pct):\n",
    "    return ('%.1f' % pct) + \"%\" if pct > 1 else '<1.0%'\n",
    "explode = (0, 0, 0, 0.2, 0.2, 0.2)\n",
    "#plt.pie(grouped_frequencies.values(), labels=labels,  explode=[0.10]*len(grouped_frequencies), autopct=my_autopct)\n",
    "wedges, texts  = ax.pie(kelm_grouped_frequencies.values(), wedgeprops=dict(width=0.5), startangle=-30, colors=sns.color_palette(\"colorblind\"))\n",
    "\n",
    "kw = dict(arrowprops=dict(arrowstyle=\"-\"), va=\"center\")\n",
    "\n",
    "for i, p in enumerate(wedges):\n",
    "    ang = (p.theta2 - p.theta1)/2. + p.theta1\n",
    "    y = np.sin(np.deg2rad(ang))\n",
    "    x = np.cos(np.deg2rad(ang))\n",
    "    horizontalalignment = {-1: \"right\", 1: \"left\"}[int(np.sign(x))]\n",
    "    connectionstyle = \"angle,angleA=0,angleB={}\".format(ang)\n",
    "    kw[\"arrowprops\"].update({\"connectionstyle\": connectionstyle})\n",
    "    ax.annotate(f\"{labels[i]} {my_autopct(list(kelm_grouped_frequencies.values())[i] / total * 100)}\", xy=(x, y), xytext=(1.35*np.sign(x), 1.4*y),\n",
    "                horizontalalignment=horizontalalignment, **kw)\n",
    "\n",
    "#plt.legend(patches, labels, loc='left center', bbox_to_anchor=(-0.1, 1.),\n",
    "#           fontsize=8)\n",
    "plt.savefig('kelm_gender_distr.png', dpi=300)\n",
    "plt.tight_layout()\n",
    "plt.show()"
   ]
  },
  {
   "attachments": {},
   "cell_type": "markdown",
   "metadata": {},
   "source": [
    "KELM Entities: 6902305 (all incl. non-persons)\n",
    "Wikidata Entities: 10211951 (only persons)"
   ]
  },
  {
   "cell_type": "code",
   "execution_count": null,
   "metadata": {},
   "outputs": [],
   "source": [
    "entity_path = \"../../kelm/entities.jsonl\"\n",
    "with open(entity_path) as json_file:\n",
    "    ent_list = list(json_file)\n",
    "\n",
    "q_count = 0\n",
    "for e in tqdm(ent_list):\n",
    "    id = json.loads(e)[\"id\"]\n",
    "    if id.startswith(\"Q\"):\n",
    "        q_count += 1\n"
   ]
  },
  {
   "attachments": {},
   "cell_type": "markdown",
   "metadata": {},
   "source": [
    "# Analysis of KELM texts"
   ]
  },
  {
   "cell_type": "code",
   "execution_count": 2,
   "metadata": {},
   "outputs": [],
   "source": [
    "kelm_path = \"../../kelm/kelm_generated_corpus.jsonl\""
   ]
  },
  {
   "cell_type": "code",
   "execution_count": 59,
   "metadata": {},
   "outputs": [],
   "source": [
    "with open(kelm_path, encoding='utf8') as json_file:\n",
    "    kelm_list = list(json_file)"
   ]
  },
  {
   "cell_type": "code",
   "execution_count": 111,
   "metadata": {},
   "outputs": [
    {
     "data": {
      "text/plain": [
       "'{\"triples\": [[\"Plave\\\\u010d ( Znojmo District )\", \"described by source\", \"Ott\\\\u016fv slovn\\\\u00edk nau\\\\u010dn\\\\u00fd\"]], \"serialized_triples\": \"Plave\\\\u010d ( Znojmo District ) described by source Ott\\\\u016fv slovn\\\\u00edk nau\\\\u010dn\\\\u00fd.\", \"gen_sentence\": \"Plave \\\\u2047  (Znojmo District) was described in Ott \\\\u2047 v slovn \\\\u2047 k nau \\\\u2047 n \\\\u2047 .\"}\\n'"
      ]
     },
     "execution_count": 111,
     "metadata": {},
     "output_type": "execute_result"
    }
   ],
   "source": [
    "kelm_list[242]"
   ]
  },
  {
   "cell_type": "code",
   "execution_count": 112,
   "metadata": {},
   "outputs": [
    {
     "data": {
      "text/plain": [
       "{'triples': [['Plaveč ( Znojmo District )',\n",
       "   'described by source',\n",
       "   'Ottův slovník naučný']],\n",
       " 'serialized_triples': 'Plaveč ( Znojmo District ) described by source Ottův slovník naučný.',\n",
       " 'gen_sentence': 'Plave ⁇  (Znojmo District) was described in Ott ⁇ v slovn ⁇ k nau ⁇ n ⁇ .'}"
      ]
     },
     "execution_count": 112,
     "metadata": {},
     "output_type": "execute_result"
    }
   ],
   "source": [
    "json.loads(kelm_list[242])"
   ]
  },
  {
   "cell_type": "code",
   "execution_count": 61,
   "metadata": {},
   "outputs": [],
   "source": [
    "selected_sentences = []\n",
    "for entry in kelm_list[:500]:\n",
    "    selected_sentences += [json.loads(entry).encode('utf-8').decode('utf-8')[\"gen_sentence\"]]"
   ]
  },
  {
   "cell_type": "code",
   "execution_count": 50,
   "metadata": {},
   "outputs": [
    {
     "data": {
      "text/plain": [
       "['Valentin Lavigne played for FC Lorient between 2014 and 2016.',\n",
       " 'Daimon Station (Aichi) is located adjacent to Kitano Masuzuka Station which is located towards K ⁇ z ⁇ ji Station.',\n",
       " 'Gharbia Governorate has a population of 4999633.',\n",
       " 'Fazl Rural District (Hamadan Province) is located in the Zarrin Dasht District, Iran.',\n",
       " 'Crataegus erythropoda is a taxon of Crataegus, a species of hawthorn.',\n",
       " 'The Government Commission for Higher Education is part of the Norwegian Official Report.',\n",
       " 'Eista Werf produces doerak.',\n",
       " 'The Molli railway is located at Bad Doberan.',\n",
       " 'John Thomson, born 1896, started his career in 1924 with Aberdare Athletic FC.',\n",
       " 'Grzegorz Piechna is a member of the FC Spartak Varna soccer team.',\n",
       " 'Lalita Yauhleuskaya competed at the 2008 Summer Olympics.',\n",
       " 'Cyprus competed at the 2015 European Games in Baku, Azerbaijan.',\n",
       " 'The patronage number of Trabzon Airport is 2620887.',\n",
       " 'Jack Horsley graduated from Indiana University Bloomington.',\n",
       " 'Mogi ⁇ a is a Szlachta coat of arms from Poland.',\n",
       " 'Bohoyo has a population of 339 people.',\n",
       " 'The song \"Caught in the Middle\" was followed by \"Evolution\".',\n",
       " 'The FIA Formula Two Championship is the main category of the FIA Formula Two Championship from 2009 to 2012.',\n",
       " 'JP Vigier has 286 total shots in his career.',\n",
       " 'Pieter van der Hulst was born in Dordrecht, which he started in 1684 and finished in 1699. He retired in Dordrecht in 1691, and he retired in 1727.',\n",
       " 'The city of Wendover was established in 1906. It is located in Tooele County, Utah, USA. The city is surrounded by West Wendover, Nevada.',\n",
       " 'Mao is the name of several people: Mao (disambiguation), the name of a person Mao, a character in the novel Mao.',\n",
       " 'Sustrum has an area of 35.58 square kilometres.',\n",
       " 'The Southern Pacific Class GS-2 is a Standard-gauge railway.',\n",
       " 'Harald Hauptmann began his career as director in 1994.',\n",
       " 'The Johns Hopkins Blue Jays are a University and College sports club representing Johns Hopkins University in the United States. They play American football and their home field is Homewood Field.',\n",
       " \"Hoag Danh Ng ⁇ c is a Vietnamese football player. He was born on 3 April 1990 in Thnh Province. He played for the men's national football team of Vietnam.\",\n",
       " 'Joakim Sjöhage, who played for SK Brann, began his career in 2007 and retired in 2008.',\n",
       " 'The location of Ankaranana is UTC + 03:00.',\n",
       " 'Massimiliano Tagliani plays for F.C. Südtirol.',\n",
       " 'Rolan de la Cruz played for Fortaleza C.E.I.F.',\n",
       " 'The Schaal Sels includes the 1965 Schaal Sels.',\n",
       " 'Simon Whaley played football for Doncaster Rovers F.C.',\n",
       " 'Denis Kiselyov played for FSC Dolgoprudny, he retired in 2013.',\n",
       " 'Lalande-en-Son is located in the UTC+01:00 time zone.',\n",
       " 'Lee Jae-hak is a human being, who attended Daegu High School. He is a pitcher for the Doosan Bears.',\n",
       " \"Jordan Rhodes' final football match was in 2016.\",\n",
       " 'Bette Midler is a character in the film Get Bruce.',\n",
       " 'Ji ⁇  Ma ⁇ ek plays for Aris Limassol FC.',\n",
       " 'Somebody is Watching You is a 1988 horror film directed by Gustavo Cova starring James Murray and Horacio Erman.',\n",
       " 'Ivan Basso won the 2009 Giro del Trentino in the general classification.',\n",
       " 'David Foenkinos is the brother of Stéphane Foenkinos.',\n",
       " 'Dennis Bailey ( footballer , born 1965 ) started playing for Watford FC in 1994.',\n",
       " 'Quedlinburg station is located in the Central European Summer Time zone.',\n",
       " 'Ryskamp is a list of human beings, a surname that can be found in the Wikimedia Commons.',\n",
       " 'Agincourt, Meurthe-et-Moselle is headed by the Mayor of Agincourt.',\n",
       " 'Renate is a neighbouring city to Cassago Brianza.',\n",
       " 'Rikuch ⁇ -Kanzaki Station is adjacent to Iwanoshita Station.',\n",
       " 'Ousmane Diakité plays as a midfielder for FC Liefering, he is a human being.',\n",
       " 'The St. Peter the Apostle Cathedral in Buga, Colombia is in the Roman Catholic Diocese of Buga. The patron saint of the Cathedral is Saint Peter.',\n",
       " \"The men's 50m butterfly event at the 2018 Mediterranean Games took place on 28th June.\",\n",
       " 'José Andres Bilibio played for Coronel Bolognesi between 2007 and 2008.',\n",
       " 'Richard Ash (American football) has a mass of +333 pound.',\n",
       " 'The Dwyer Escarpment is a landform in Antarctica, in the Antarctic Treaty area.',\n",
       " 'Buck Gladmon is a human given name. He played third base for the Philadelphia Phillies.',\n",
       " 'Sage 100 is a software company located in the UK.',\n",
       " 'The Frugalware Linux has an Alexa rank of 3402415.',\n",
       " 'The Statute Law Revision Act 1966 is an Act of Parliament in the United Kingdom.',\n",
       " \"Alex Cooley's Electric Ballroom is located in the United States.\",\n",
       " 'Dharanikota is elevated 8 metres above sea level.',\n",
       " 'James Gibbons served as a co-consecrators with Anthony Dominic Pellicer.',\n",
       " 'Sorin Avram plays for FCM Bacău.',\n",
       " 'John Mason is a member of the Mason Henry Gang, an outlaw and human.',\n",
       " \"The Men's 400 metres hurdles is part of the 2009 European Athletics U23 Championships in the sport of athletics.\",\n",
       " 'Cachorro Grande is the main category of the book Cachorro Grande.',\n",
       " 'The time zone of the station, Valencia-Joaqu ⁇ n Sorolla, is Central European Time.',\n",
       " 'The 1st century has included the 60s.',\n",
       " 'Stanislas Lalanne Éric Aumonier (bishop) was the principal co-consecrators.',\n",
       " 'Fresnes-en-Tardenois is located in the UTC+01:00 time zone, which is valid in Standard time.',\n",
       " 'Wólka Wr ⁇ cka is located in the UTC + 02:00 time zone.',\n",
       " 'Gary Himsworth is a member of the Darlington F.C.',\n",
       " 'The population of Moral de la Reina is +197.',\n",
       " 'Ward No. 136, Kolkata Municipal Corporation has a population of +21482.',\n",
       " 'Geuzenveld is a neighbourhood in Amsterdam Nieuw-West, Netherlands. It forms part of Westelijke Tuinsteden, the municipal government of Amsterdam.',\n",
       " 'Micka ⁇ l Buscher started his career with Canterbury United FC in 2014.',\n",
       " \"The Sorcerer's Apprentice is a German novel written by Hanns Heinz Ewers, published in 1907.\",\n",
       " 'The Hubble Space Telescope has a mass of 11110 kilograms.',\n",
       " \"Ernst Leonard Lindelöf's doctoral student was Pekka Myrberg, who was a student of his in 1916.\",\n",
       " 'Grigoriy Oparin Elo rating is +2613.',\n",
       " 'Louis XIV is a board game that won the Deutscher Spiele Preis.',\n",
       " 'Peter Lever is a human given name.',\n",
       " 'Morat play Presiento.',\n",
       " 'Santa Mar ⁇ a del Invierno has a population of +69.',\n",
       " 'Aiyaz Sayed-Khaiyum graduated from the University of Wollongong.',\n",
       " 'Gene Fekete is +72 inches tall.',\n",
       " 'Princeton University is a Carnegie Classification Institution, where the majority of students are undergraduate.',\n",
       " 'The population of Barbadillo is +467.',\n",
       " 'The Game Boy Advance is a platform for the game Major League Baseball 2K7.',\n",
       " 'George White Agwuocha played for the Nigeria national under-17 football team between 2009 and 2011.',\n",
       " \"The women's 5 kilometre classical cross-country skiing competition at the 2017 Asian Winter Games was held on 5 February 2017.\",\n",
       " \"The Denmark national football team's ranking is +13.\",\n",
       " 'Milwaukee (town) is located in Milwaukee County, Wisconsin, USA. It was founded on March 17, 1835 and dissolved in 1955.',\n",
       " 'Péter Kovacs is a footballer who played for the Hungary national football team between 2004 and 2005.',\n",
       " 'Suzanne Flon stars in The Angel of the Night.',\n",
       " 'Caroline Lagerfelt is a cast member of Gossip Girl.',\n",
       " 'The Jadavpur railway station is in the Indian Standard Time Zone.',\n",
       " 'The University of Wisconsin River Falls is the main topic of the University of Wisconsin–River Falls.',\n",
       " 'Jenni Branam was a member of Sky Blue FC, a team she played for between 2009 and 2011.',\n",
       " 'Mas-Saintes-Puelles is located in the UTC + 02:00 time zone, which is valid in daylight saving time.',\n",
       " 'Lemany, Pomeranian Voivodeship is located in the UTC+02:00 time zone, which is valid during daylight saving time.',\n",
       " 'Patrick Russell ( ice hockey ) has played 6 matches.',\n",
       " 'Shahrnush Parsipur was educated at the University of Paris. He speaks French.',\n",
       " 'Capelle is a disambiguation page. Kapel is also a name for Capelle. Capella is also a name for Capelle.',\n",
       " 'The Spain Human Development Index is 0.810.',\n",
       " 'Andy Kennedy, born 1964, is a footballer for Birmingham City F.C.',\n",
       " 'Zehava Ben is a human being who uses her voice to perform Mizrahi music. He speaks Hebrew.',\n",
       " 'The Canton of Olivet has a population of 30117.',\n",
       " 'Orzinuovi is located in the region of Borgo San Giacomo.',\n",
       " 'John Fitzpatrick ( cricketer ) played for Victoria cricket team which began in 1914 and finished in 1914.',\n",
       " 'The book The Human is the title of one of the authors, Douglas James Smyth Crozier.',\n",
       " 'The Olympic Conference may refer to: Olympic Conference (disambiguation), the Olympic Conference of the United States Olympic Conference, the Olympic Conference of the United States',\n",
       " \"The Canadian men's national road cycling team 2016 took part in the 2016 Grand Prix Cycliste de Québec.\",\n",
       " 'Tarek Yehia ( weightlifter ) competed at the 2008 Summer Olympics.',\n",
       " 'The Street ( 1923 film ) is 4:3.',\n",
       " 'Vladimir Forbs plays for C.S. Mar ⁇ timo.',\n",
       " 'Josef Mazura started his career with FC Zbrojovka Brno in 1977 and finished his career in 1986.',\n",
       " 'Pseudofracture is a radiologic sign.',\n",
       " 'Marco Aurelio Cunha dos Santos played for Cosenza Calcio 1914. He started playing for the club in 2002 and ended his career in 2003.',\n",
       " 'Michael Wilk, a keyboardist, is a member of the hard rock band, Human. He started performing in 1981.',\n",
       " 'The 1950 Illinois Fighting Illini football team was an American football team that competed in the 1950 season. They are based in the United States.',\n",
       " 'Ramov ⁇  is a surname and may refer to:',\n",
       " 'Arshad Warsi won the Best Supporting Actor award at the Bollywood Movie Awards.',\n",
       " 'The adjacent station to Gare de Lyon (Paris Metro) is Châtelet (Paris Metro).',\n",
       " \"Ndwa'ngith is a language of the North Cape York Paman languages.\",\n",
       " 'The main category of Smerinthini is Smerinthini.',\n",
       " 'Piau ⁇  contains the administrative territory of Varzea Branca.',\n",
       " 'Darren Brazil, a human, is known for his work in the field of human rights.',\n",
       " 'Sergio Santana Atlas ended his career in 2012.',\n",
       " 'Panagiotis Kafkis speaks Modern Greek.',\n",
       " 'Victor Elementary School District is located in California, in the United States.',\n",
       " 'San Pietro Vernotico has a population of +13556.',\n",
       " \"New York State Route 311's terminus is Patterson, New York, and it goes east.\",\n",
       " 'The Midland Continental Overpass is located in North Dakota, United States. The bridge was listed on the National Register of Historic Places.',\n",
       " 'Serhiy Honchar was a competitor in the 2002 Tour de France.',\n",
       " 'Dysbindin, a protein coding gene, encodes Dystrobrevin binding protein 1 and is located on chromosome 6. Its ortholog is DTNBP1a.',\n",
       " 'Li Guohao can refer to: Li Guohao (disambiguation), places in China Li Guohao (film), a movie',\n",
       " 'Novomessor ensifer, a species in the genus Novomessor, is a member of the Aphaenogaster family.',\n",
       " 'Michael Allen played for Northamptonshire County Cricket Club from 1956 to 1963.',\n",
       " 'Daniel Carnevali began his career in 1988 with Central C ⁇ rdoba de Rosario and retired in 1991.',\n",
       " 'Amar Bukvi ⁇  was born in Zagreb, Croatia, on June 10th 1981. He is a film actor and a TV actor.',\n",
       " 'Finest Moments is a compilation album by Louise Redknapp, released in 2002. It is the sequel to Changing Faces - The Best of Louise.',\n",
       " 'The genus Acinos belongs to the Nepetoideae family and is considered a taxon.',\n",
       " 'The Swedish Pro Tennis Championships is a tournament that takes place once a year.',\n",
       " 'Veronica Kristiansen is +178 cm tall.',\n",
       " 'Bakri Tarab Al Shorta SC (Syria) ended in 2012.',\n",
       " 'Jack Walsh ( politician ) is a human being.',\n",
       " 'Oxford Parkway railway station is located adjacent to Oxford railway station.',\n",
       " 'Karim Nizigiyimana started his career in 2009 and ended it in 2010. He plays for SC Kiyovu Sports.',\n",
       " 'Nellikkuth, Manjeri is a human settlement in India, located in the Malappuram district.',\n",
       " 'Jan M. Ziolkowski was a member of the Medieval Academy of America, of which he became a Fellow in 2008.',\n",
       " 'Belbèze-en-Lomagne borders Vigueron.',\n",
       " 'Kurigram-3 is a constituency of the Jatiyo Sangsad which was created on 1 January 1984 in the Kurigram District of Bangladesh.',\n",
       " \"Mick Jagger is the composer of Mother's Little Helper, which is different from Mother's Little Helpers. The song is followed by Have You Seen Your Mother, Baby, Standing in the Shadow.\",\n",
       " 'The history of Burger King includes the following:',\n",
       " 'Arthur Balfour was from the United Kingdom of Great Britain and Ireland, which ended on 12 April 1927, due to the Royal and Parliamentary Titles Act 1927.',\n",
       " 'The office of the mayor is held in Balindong.',\n",
       " 'MC Pitman is a rapper from the United Kingdom. He is human and he is a man.',\n",
       " 'Langa Langa Lagoon is located on the island of Langa Langa in the Malaita Province of the Solomon Islands.',\n",
       " 'Martinet, Vendée has a population of +1136.',\n",
       " 'Sfințișori is a Slavic folk holiday.',\n",
       " 'The neighbouring town of Mälarhöjden is Hägersten.',\n",
       " 'Lionel de Rothschild owns Halton House.',\n",
       " 'Lewy Pattinson, who is a human being and uses the English language, is the father of William Frederick Pattinson.',\n",
       " 'Stanislaus County, California is bordered by Mariposa County, California.',\n",
       " 'Rubén Glaria started his career at the Atl ⁇ tico Sarmiento in 1979.',\n",
       " \"Sébastien Raguin's club was the Catalans Dragons, he started his career on 1 January 2007 and finished his career in 2012.\",\n",
       " 'The list of people with the surname Warburton is a list of human beings.',\n",
       " 'Jorge Ram ⁇ rez started his career in 2013 with Deportivo Pasto. He finished his career in 2015.',\n",
       " 'Asher Keddie starred in Stateless.',\n",
       " 'Cao ( footballer , born 1968 ) retired in January 2005.',\n",
       " 'Alain Mendy played for Parma Calcio 1913.',\n",
       " 'Spintherophyta globosa is a species of spiny-tree fungus, the parent taxon of which is Spintherophyta.',\n",
       " 'Vasilica Tastaman stars in Trandafirul galben.',\n",
       " 'Sagaydachnoye is a village in Russia.',\n",
       " 'The area of Benissoda is +4 square kilometres.',\n",
       " \"Moulay Aissa Ben Driss' population is 12621.\",\n",
       " 'Pil ⁇ o Arcado has a population of +35428.',\n",
       " 'Chorzow, a village in Poland, is in the Gmina Ro ⁇ wienica administrative territory, in the Podkarpackie Voivodeship.',\n",
       " 'Anatole Klyosov is a full professor.',\n",
       " 'Maxime Vachier-Lagrave has an Elo rating of +2744.',\n",
       " 'Hillsboro, New Mexico is located in the Mountain Time Zone.',\n",
       " 'Hussain Salman began his career in 2007 and now plays for Al-Shabab Club in Manama.',\n",
       " 'Stefan Milosavljevi ⁇  began his career in 2009 and ended it in 2011. He played for the club FK Napredak Kru ⁇ evac.',\n",
       " 'Baltimore Mills Historic Archaeological Site is located in the administrative territory of Sussex County, Delaware, United States. The site was listed on the National Register of Historic Places.',\n",
       " 'The D-aspartate oxidase (subclass: oxidoreductase) is an enzyme family with D-aspartate oxidase activity.',\n",
       " 'If I Were King is a 1920 drama film directed by J. Gordon Edwards. It stars Walter Law and Fritz Leiber.',\n",
       " 'The film All the Bright Places is a drama that was produced in the U.S. The film is directed by Brett Haley. The film is available on Netflix and the original language is English.',\n",
       " 'The topographic prominence of Mont Pourri is +1132 metre.',\n",
       " 'Kauiza Venancio was born in Curitiba on June 11th 1987. She is a female track and field athlete from Brazil who competed in the Athletics at the 2016 Summer Olympics.',\n",
       " 'The Callizygaena auratus is a species of Callizygaena. It is a taxon in the order Callizygaena.',\n",
       " 'Arcomage is a single player video game.',\n",
       " 'Halmeu is located in the UTC+3:00 time zone.',\n",
       " ' ⁇ enbric is located in the UTC + 01:00 time zone.',\n",
       " 'Gamma Piscium has an apparent magnitude of +2.47.',\n",
       " 'Alonso Piola began his career in 2001 with S.S.D. Pro Sesto. He ended his career in 2002. S.S.D. Pro Sesto was acquired by the bank through a loan.',\n",
       " 'Olszyna, West Pomeranian Voivodeship is located in the UTC+01:00 time zone.',\n",
       " 'Yan Song plays for Dalian Transcendence FC.',\n",
       " 'Samuel Abraham Pozna ⁇ ski is described in the Brockhaus and Efron Encyclopedic Dictionary.',\n",
       " 'Schwarzau im Gebirge is located in the UTC + 01:00 zone.',\n",
       " 'Ralston, Iowa is elevated 344 meters above sea level.',\n",
       " 'Don McLean can also refer to: Don McLean, a character in the TV series Don McLean, a character in the film Don McLean (disambiguation), a character in the film Don McLean, a character in the film Don McLean, a character in the film Don McLean, a character in the book Don McLean, a character in the book Don McLean, a character in the book Don McLean (disambiguation), a character in the film Don McLean, a character in the TV series Don McLean, a character in the TV series Don McLean, a character in the TV series Don McLean, a character in the TV series Don McLean, a character in the TV series Don McLean, a character in the film Don McLean, a character in the film Don McLean, a character in the book Don McLean',\n",
       " 'The Skyline Soccer Association, based in the United States, is a league for association football.',\n",
       " 'The operating system of Apache Pig is Linux.',\n",
       " 'Cedar Creek (WI) is a tributary of the Milwaukee River.',\n",
       " 'Oceanimonas smirnovii is a species of Oceanimonas and its parent taxon is Oceanimonas.',\n",
       " 'Agnes L. Rogers is an expert on human rights.',\n",
       " 'Gordana Markovi ⁇  has an Elo rating of +2264.',\n",
       " 'The owner of the Long Island Rail Road is Sayville station.',\n",
       " 'The elevation above sea level of Letychiv is +274 metres.',\n",
       " \"Bacolod-Silay airport's patronage number is +1579199.\",\n",
       " 'The Three Hills are located at an elevation of +896 metres above sea level.',\n",
       " 'Gabrielle Reed, born in Bloomington, Indiana in 1988, is an American beauty pageant contestant. She attended Jacobs School of Music and was a human being.',\n",
       " 'Monteforte Cilento has a population of 554 people.',\n",
       " 'Sun Belt Basketball Tournament may refer to: Sun Belt Basketball Tournament (disambiguation)',\n",
       " 'NGC 3953 is at a distance of 17.8 megaparsec from Earth.',\n",
       " 'The population of Bouches-du-Rh ⁇   ⁇ ne is +1975896.',\n",
       " 'The Mayor of Punta Umbr ⁇ a is the head of government in Punta Umbr ⁇ a where Gonzalo Rodriguez Nevado is the leader of government.',\n",
       " 'D.R. Mehta graduated from Massachusetts Institute of Technology.',\n",
       " 'The population of Baisha Subdistrict, Haikou is 36622.',\n",
       " 'Christopher Marlowe was described in the Dictionary of National Biography, 1885-1900.',\n",
       " 'Saint Francis High School is in St. Francis, Wisconsin, United States. St. Francis High School ( Wisconsin ) was created in 1962 and is part of the Saint Francis School District.',\n",
       " 'Probolinggo Regency is located in UTC + 07:00.',\n",
       " 'Spencer Ponsonby-Fane was a member of the Middlesex County Cricket Club, which he started in 1862.',\n",
       " 'Sam Duncum Worksop Town F.C. was acquired by a loan.',\n",
       " 'När karusellerna sover is a Swedish Christmas calendar, it was produced by Sveriges Television and broadcast on SVT1.',\n",
       " 'The rotational velocity of HD 5789/5788 is +270 kilometres per second.',\n",
       " 'Pieter Pauw is the creator of the Leiden anatomical theatre, which began in 1593.',\n",
       " \"Sergei Osadchuk's football club was FC Lukhovitsy. He began his career in 2002 and finished his career in 2008. He also played for FC Lukhovitsy between 2007 and 2008.\",\n",
       " 'The patronage number of Ouagadougou Airport is +361143.',\n",
       " 'The Canton of Faverges includes the administrative territory of Entremont, Haute-Savoie.',\n",
       " 'Steven Gray is a footballer who plays for Melbourne City FC.',\n",
       " \"Mo ⁇ -de-l'Aisne is located in the UTC+02:00 time zone, which is valid in the period of daylight saving time.\",\n",
       " 'The Brockhaus and Efron Encyclopedic Dictionary describes Émile Souvestre.',\n",
       " 'Sanganer is a constituency of the Rajasthan Legislative Assembly in India.',\n",
       " 'Michael Endrass has a mass of +163 pound.',\n",
       " 'Malena Solda stars in Lamb of God.',\n",
       " 'Carl Schlechter was described by the source Obalky knih.cz.',\n",
       " 'Robert Wally Shearer, known as Wally Shearer, is a human being who speaks English.',\n",
       " 'Omice has a population of 611.',\n",
       " 'Erich Leibenguth started his career in 1938 and finished his career in 1939. He played for the club SV Hindenburg Allenstein.',\n",
       " 'Stefano Pioli, who has been the head coach of S.S. Lazio since June 14, 2014, retired on April 3, 2016.',\n",
       " 'Moosthenning has a population of 3736.',\n",
       " 'Plave ⁇  (Znojmo District) was described in Ott ⁇ v slovn ⁇ k nau ⁇ n ⁇ .',\n",
       " 'Frank Bainard Stacey is a human being, who works in Ottawa. He is a Methodist and speaks English.',\n",
       " 'Ray Staszak has 9 total shots in his career.',\n",
       " 'There are 16 teams participating in the 2007-08 Primeira Liga season.',\n",
       " 'One Piece: Pirate Warriors (USK 12 rating) is a video game.',\n",
       " 'The Elo rating of Tatiana Voronova is +2167.',\n",
       " 'Zeridoneus is the main topic of Zeridoneus.',\n",
       " 'Buneh Dam Sefidar, located in the Sepidar Rural District, is in Iran.',\n",
       " 'Mauidrillia browni is a species of sea snail, a fossil marine gastropod mollusk in the family Drilliidae.',\n",
       " 'Timothy Anglin was Speaker of the House of Commons in Canada and was succeeded by Joseph-Goderic Blanchet.',\n",
       " 'CricketPaint is a raster graphics editor.',\n",
       " 'Ion Petre Stoican, whose name is Ion, is a human being who plays the fiddle. He is a man.',\n",
       " 'Janam Sakshi is a newspaper which was started in 2002.',\n",
       " 'Andy Drury played for Ebbsfleet United F.C.',\n",
       " 'C. esculenta may refer to: C. esculenta (disambiguation), other names C. esculenta',\n",
       " \"Michal Macek started playing for St Patrick's Athletic F.C. in 2007.\",\n",
       " 'The list of Indian football transfers for the winter 2012-13 season comprises a transfer of Indian football clubs.',\n",
       " 'Chevrolet Lova may refer to: Chevrolet Lova (disambiguation), other names Chevrolet Lova',\n",
       " 'Héctor Sanabria ( footballer , born 1945 ) began his career in 1965 and finished his career in 1978. He played for the club Universidad Nacional.',\n",
       " 'The main Category for Irish Ice Hockey League is Irish Ice Hockey League.',\n",
       " 'The BEIC Digital Library describes Francis Delaram.',\n",
       " 'Chris Welp speaks German.',\n",
       " 'The 1921 Southern Branch Cubs football team was an American football team that represented the United States.',\n",
       " 'Pascal Ory won the Grand prix Gobert in 2018.',\n",
       " \"The men's 4  ⁇  100 metre medley relay was a swimming sporting event at the 1976 Summer Olympics.\",\n",
       " 'Jane Adams is an actress in Searching for Debra Winger.',\n",
       " 'Jacob Davenport is a human being whose surname is Davenport. He played as a midfielder.',\n",
       " 'Cameron Darkwah played for Mossley AFC.',\n",
       " 'Bjorn Anderson, given name Bjorn, has the surname Anderson.',\n",
       " 'Zanzouri is an Israeli comedy-drama TV series that was originally shown in Hebrew.',\n",
       " 'The life expectancy in Cyprus is 78.631 year.',\n",
       " \"St Ann's, London is a neighbourhood in the London Borough of Haringey, United Kingdom.\",\n",
       " 'Let the Music Play: Supreme Rarities is a compilation album by The Supremes from the United States. It was released in 2008 and is a Motown label release.',\n",
       " 'Giuliano Figueras, who finished second overall, was the winner of the 1998 Tour de Langkawi.',\n",
       " 'Leonard Landois was described in Salmonsens Konversationsleksikon.',\n",
       " 'Tarutyne is the main category of Tarutyne.',\n",
       " 'Borgerhout is the main topic of a category called Borgerhout.',\n",
       " 'The list of ambassadors of Russia to North Korea is a list of Human.',\n",
       " 'Your Saving Grace was recorded at Wally Heider Studios.',\n",
       " 'Ice hockey is the sport of Hockeyettan, the league 1961-62 played in. The season was played in 1961-62 in Sweden.',\n",
       " 'Nicholas Boyle won the Friedrich-Gundolf-Preis in 2009.',\n",
       " 'Anshun West railway station is located next to Pingba South railway station, which is in the direction of Shanghai Hongqiao railway station.',\n",
       " \"Celtus Dossou Yovo's profession is Human.\",\n",
       " 'The nominal GDP of Uruguay is 1809183974.52669 U.S. dollar.',\n",
       " 'Tabagie can refer to: Tabagie, Tabagie, Tabagie, Tabagie, Tabagie (disambiguation), Tabagie.',\n",
       " 'The length of Mzymta River is +89 kilometres.',\n",
       " 'The Israel Football Association organized the 2001-02 season of Liga Leumit (association football) in Israel. This season was the season of the league which was played during the 2001-02 season.',\n",
       " 'Adrian Dix began his career as Leader of the Opposition in British Columbia on April 17th 2011.',\n",
       " 'The outline of performing arts can be found in the Wikimedia.',\n",
       " 'There are 51 households in Beuda.',\n",
       " 'The Singing Senators are an American rock and pop band that was formed in 1995. Jim Jeffords is a member of the band.',\n",
       " 'CFHR4 is located on chromosome 1 and it was assembled from GRCh37 and GRCh38.',\n",
       " 'Tetsuro Fukuyama began his career in Japan in 1975.',\n",
       " 'Nowa Wie ⁇ , Strzelce County in Poland is located in the administrative territory of Gmina Strzelce Opolskie.',\n",
       " 'Eschata quadrispinea is a species of fish in the family Eschata.',\n",
       " 'Radisson Blu Hotel Shanghai New World has 47 floors above ground.',\n",
       " 'The Southern Baptists of Texas Convention was created in 1998.',\n",
       " \"Thoiry, Savoie is located near to Saint-Jean-d'Arvey.\",\n",
       " 'Geoffrey Wigdor, a human being, is from New York City. He was a resident of New York City when he started performing in 1990.',\n",
       " 'Alexandre Pato began his career in 2008 and retired in 2012. He is a member of the Brazilian national under 23 football team.',\n",
       " 'Niculae can refer to: Niculae, a dish Niculae (disambiguation)',\n",
       " 'Ngizim may refer to: Ngizim, a dish Ngizim, a dish Ngizim (disambiguation), several places Ngizim, a town',\n",
       " 'Josh Simpson ( English footballer ) began his career in 2010 with Peterborough United FC.',\n",
       " 'Ester Ellqvist began working with the illustrator John Bauer on December 18, 1906.',\n",
       " 'The boxing event Revenge: The Rematches is based in the United States.',\n",
       " 'George Raft is a cast member in Land of Liberty.',\n",
       " 'David Prain won the Albert Medal of the Royal Society of Arts in 1925.',\n",
       " 'Einstürzende Neubauten is the main topic of the book.',\n",
       " 'The population of Coweta County in Georgia is 117932.',\n",
       " 'Orlando City U-23 is the occupant of Showalter Field, a stadium in the United States operated by the Orange County Public Schools.',\n",
       " \"Patryk Aleksandrowicz's final football club was AE Giannena FC, where he finished in 2008.\",\n",
       " 'There are 75 people living in Reuves.',\n",
       " 'Lee Johnson is a footballer for Yeovil Town FC.',\n",
       " 'The attendance at the 2017 U.S. Open Cup Final was +21523.',\n",
       " 'Cesseville is an administrative territory of Eure.',\n",
       " 'Den of Thieves is written in the English language.',\n",
       " 'Boluo County covers an area of 2795 square kilometres.',\n",
       " 'GhostBSD is a BSD based on TrueOS and is available as free software. It was released on March 12, 2010.',\n",
       " 'Mazatlán has a total area of 3068.5 square kilometres.',\n",
       " \"Jafar ibn Abd al-Wahid ibn Ja'far al-Hashimi's personal name is Ja'far ibn Abd al-Wahid ibn Ja'far al-Hashimi, and his field of study is human rights.\",\n",
       " 'Chase is an unincorporated community in Alabama, in the United States.',\n",
       " 'John Hayes ( rugby union ) has a mass of +125 kg.',\n",
       " 'Sabbia is located in the UTC+2:00 time zone.',\n",
       " 'David Czupryn is an artist who was born in 1983. His name is David and he is a man who makes art concerning the human being.',\n",
       " 'The manufacturer of the Conversational Programming System is IBM.',\n",
       " 'David Burpee, whose name is David, is a human being. His father was Washington Atlee Burpee.',\n",
       " 'The topographic isolation of Piz Grisch is 6.59 kilometres.',\n",
       " 'Capcanes has a population of 401.',\n",
       " 'Host ⁇ rádky-Re ⁇ ov has a population of 803.',\n",
       " 'Born on 28 August 1976 in Vaddukoddai, Nediyavan, a member of the Liberation Tigers of Tamil Eelam, is a human being who attended Jaffna Hindu College.',\n",
       " 'Kari Lehtola began his career as a Director in 1996.',\n",
       " 'Kao Chih-kang has a mass of 75 kilograms.',\n",
       " 'Dave Filoni provided the voice for Star Wars: The Clone Wars.',\n",
       " 'Ko ⁇ ariská has an area of 11.53 square kilometres.',\n",
       " 'Brett Connon was born on August 29, 1996. He is a rugby union player who plays as a fly-half and human being.',\n",
       " 'Haverholme Priory is located in the United Kingdom and was established on 17 January 1101, it is a human settlement.',\n",
       " 'Gabriel Schacht began his career in 2004 and ended his career in 2005. He plays for Associaç ⁇ o Atlética Ponte Preta.',\n",
       " 'Ravenna was in the Cisalpine Republic, which was started in 1796 and ended on 26 January 1802.',\n",
       " 'Dhak Bhulla Rai is a village in the Kapurthala district of India.',\n",
       " 'Pascale Bercovitch is a rower who competed in the 2016 Summer Paralympics in rowing, canoeing and kayaking. She is a female rower and human.',\n",
       " 'The patronage number of Keflav ⁇ k International Airport is 4858776.',\n",
       " 'The chairperson of the University of Perpignan is Fabrice Lorente.',\n",
       " 'The Boys Next Door ( 1985 film ) has a duration of 91 minutes.',\n",
       " 'Stafford Cassell worked at American University from 1937 to 1942. He began working for the university in 1946.',\n",
       " 'Malevil is a film that has a duration of 120 minutes.',\n",
       " 'Allen County, Kentucky has a population of 20640.',\n",
       " 'Andrei Danilov began his career in 2005 with FC Spartak Nizhny Novgorod, he finished his career in 2006.',\n",
       " 'The Model 2 may refer to: Model 2 (disambiguation), a model',\n",
       " 'Paschimesvara Siva Temple is a Hindu temple in India.',\n",
       " 'The song \"Sandcastles\" is a track from Lemonade, the debut album of Beyoncé.',\n",
       " 'The New York Stock Exchange is the stock exchange for Ita ⁇  Unibanco.',\n",
       " 'Lewis Emanuel was a member of the Republic of Ireland national football B team who started in 2006.',\n",
       " 'Sergei Gunko was born in Samara, Soviet Union on January 12th 1973. He is a football player and is a manager of the Samara club. Mr. Gunko is a man of great character.',\n",
       " 'A list of magazines in Portugal is a list of magazine articles.',\n",
       " 'Tibi played for FC Maia between 1987 and 1988.',\n",
       " 'Czaczyk is in the UTC + 01:00 time zone.',\n",
       " 'The Museum of Textile in  ⁇ eská Skalice is located in  ⁇ eská Skalice, Czech Republic.',\n",
       " 'Puzzle Mountain is located in the Elk River Mountains, in British Columbia, Canada.',\n",
       " 'Dolichogyna is a taxon of hoverfly.',\n",
       " 'Helictotrichon is a genus of flowering plants in the Poaceae family. It is considered a taxon.',\n",
       " 'The following is a list of municipalities in Piau ⁇ , Brazil. A municipality is a city.',\n",
       " 'The patronage of Horta Airport is +3975.',\n",
       " 'Meera Vasudevan was born in Mumbai, India on 29 January 1982. She is a model and an actress who is part of the Indian girl group the Lotus.',\n",
       " 'The SS Malolo is an ocean liner and cruise ship owned by Matson Inc. The home port of the SS Malolo is San Francisco. The ship was built by William Cramp & Sons.',\n",
       " 'Kayhan Kaynak started his career in 1993 and finished in 1994. He played for the Adana Demirspor.',\n",
       " 'Eduardo Lu ⁇ s is a member of the C.S. Mar ⁇ timo club.',\n",
       " \"Georgi Kondratiev was a member of FC Vitebsk's squad between 1978 and 1979.\",\n",
       " 'CZM is the name of several places: CZM, a disambiguation page.',\n",
       " 'Taner Demirbaş plays for Kayseri Erciyesspor.',\n",
       " 'The population of Puzeaux is +290.',\n",
       " 'The Laro language is spoken in the River Nile state.',\n",
       " 'Fredericksburg, Iowa covers an area of +2.231683 square kilometres.',\n",
       " 'Berkhout is a settlement in Wester-Koggenland.',\n",
       " 'The Tea Tree Gully Football Club is an Australian rules football club based in Australia.',\n",
       " 'Fels ⁇ told is in the UTC+01:00 time zone, which is valid in Standard time.',\n",
       " 'Isognathus swainsonii is a species of cyprinid fish, a taxon of which is Isognathus.',\n",
       " 'Wiltz has a population of 4800.',\n",
       " 'Lotte Stein is a cast member of The Three Women of Urban Hell.',\n",
       " 'The maximum sustained winds of Hurricane Caroline are +100 knots.',\n",
       " 'Kevin M. Mendes was born in Trinidad, Uruguay on 10 January 1996. He is an association football player from Uruguay.',\n",
       " \"Griffith Airport's patronage is +26226.\",\n",
       " 'Havetoftloit has a population of 808.',\n",
       " 'The 2019 AFC Asian Cup, which is the sequel to the 2015 AFC Asian Cup, was the AFC Asian Cup. It was followed by the 2023 AFC Asian Cup.',\n",
       " \"Oud-Vroenhoven's coat of arms is the coat of arms of Oud-Vroenhoven.\",\n",
       " 'Hacinas has a population of 155.',\n",
       " 'Andelarre is located in the region of Noidans-lès-Vesoul.',\n",
       " 'Vy ⁇ ná Ol ⁇ ava is a municipality of Slovakia in the Stropkov District. It was founded in 1382 and the earliest written record is from 1382.',\n",
       " 'The University of Toledo is a high undergraduate university that is classified by the Carnegie Classification of Institutions of Higher Education.',\n",
       " 'Suonenjoki has a population of 7598.',\n",
       " \"Semi Ajayi's football career began in 2013 and he played for the Nigeria national under 20 football team.\",\n",
       " 'Heimir Björg ⁇ lfsson worked in Amsterdam from 2001 to 2003.',\n",
       " 'Vieu is bordered by Belmont-Luthézieu.',\n",
       " 'The genus Cosmophyga, which is a member of the Geometer moth family, is considered to be a taxon.',\n",
       " 'Shadi Ghosheh played for Bassano Virtus 55 S.T.',\n",
       " 'The radial velocity of NGC 384 is +4183.0 kilometres per second.',\n",
       " 'Cima de Pian Guarnei is elevated 3015 metres above sea level.',\n",
       " 'Musician and songwriter Risto Asikainen is a record producer and composer. He was born in Nurmijärvi, Finland on August 20, 1958.',\n",
       " 'The family name of Ken Grimley is Grimley and he speaks English. He is a human being.',\n",
       " 'Long Branch Township is located in Saline County, Illinois, United States.',\n",
       " 'North Side High School Gym is an arena in Indiana, United States.',\n",
       " 'Wi ⁇ niewka is located in the UTC + 01:00 time zone.',\n",
       " 'Wierzchoniow is located in the UTC+02:00 time zone, which is valid in the period of daylight saving time.',\n",
       " 'Andrew Wiggins graduated from the University of Kansas in 2013. He graduated from the University of Kansas in 2014.',\n",
       " 'The English language Wagonmaster album by Porter Wagoner was released in 2007. It is the record label of Anti.',\n",
       " \"Gaston Mercier competed in the men's eight event at the 1960 Summer Olympics.\",\n",
       " 'Layne Ulmer has a career plus-minus rating of -1.',\n",
       " 'Jose Valle played for the club Atl ⁇ tico Atlanta from 1941 to 1943.',\n",
       " 'Machowino-Kolonia Zachodnia is located in the UTC+2:00 time zone, which is valid in the period of Daylight saving time.',\n",
       " 'Jovo Mi ⁇ elji ⁇  plays for FK Proleter Zrenjanin.',\n",
       " 'Pembroke, New York has an area of 41.72 square miles.',\n",
       " 'Messongo is an unincorporated community in Virginia, in the United States.',\n",
       " 'Mari Palta is a member of the American Statistical Association, who worked at the University of Iowa where she is a professor of Human Resources.',\n",
       " 'Leandro Camilo de Almeida plays for Boa Esporte Clube.',\n",
       " 'Disney Digital Network is a subsidiary of Disney Interactive.',\n",
       " 'Ronald Holyoake played for the England cricket team, which began in 1924.',\n",
       " 'Hoplias curupira is a taxon and a species of fish in the genus Hoplias.',\n",
       " 'George Goldsmith played for Sussex County Cricket Club between 1878 and 1879.',\n",
       " 'Kuntugushevo is a hamlet in Russia.',\n",
       " 'Jevon Balfour is a wrestler and human.',\n",
       " 'The mossy fiber is part of the cerebellum.',\n",
       " 'Elba Ramalho is the main topic of the book.',\n",
       " 'The population of Isogo-ku, Yokohama is 166229.',\n",
       " 'Saddle Brook, New Jersey is located in the state of New Jersey, which is bordered by Paramus, N.J.',\n",
       " 'The maximum temperature in Palau is +35 degree Celsius.',\n",
       " 'Felipe Cunha e Silva has a mass of +76 kilograms.',\n",
       " 'WR 86 is a variable star.',\n",
       " 'Santa Elena, Marikina is a human settlement.',\n",
       " 'Sobolivka, Teplyk Raion is located in the UTC + 02:00 Standard time zone.',\n",
       " 'Pontinus is a genus of Scorpaenidae fish that is a taxon.',\n",
       " 'Volatility is a physical property in chemistry, which is described in the Armenian Soviet Encyclopedia.',\n",
       " 'Saint-Dizier-en-Diois is located in the neighbouring municipality of Bruis.',\n",
       " \"The owner of Stadio Marc'Antonio Bentegodi is Verona.\",\n",
       " 'The Endoxyla lichenea (parent taxon: Endoxyla) is a species of moth in the family Endoxylidae.',\n",
       " 'The award for the Bremen Hauptbahnhof is the Bahnhof des Jahres.',\n",
       " 'Leliwa,  ⁇ od ⁇  Voivodeship is in the UTC+01:00 time zone.',\n",
       " 'Handwara is located in the UTC +05:30 time zone.',\n",
       " 'Nagylok has an area of +32.44 square kilometres.',\n",
       " 'Mu Sagittarii has an apparent magnitude of +3.178.',\n",
       " 'St Davids has an area of +17.93 square mile.',\n",
       " 'The Museum of Man and Nature covers an area of 2500 square metres.',\n",
       " 'Edm ⁇ lson Matias played for the Uni ⁇ o Bandeirante Futebol Clube, which he joined in 1994.',\n",
       " 'Czerwony Most is located in the UTC + 02:00 time zone, which is valid in the period of daylight saving time.',\n",
       " 'NGC 240 has a radial velocity of +12232 kilometres per second.',\n",
       " 'Silent Circle Instant Messaging Protocol is a cryptographic protocol developed by Silent Circle.',\n",
       " 'Robin Hood was a 1973 film starring Pat Buttram as Sheriff of Nottingham.',\n",
       " 'The film Flatland has a total duration of +95 minutes.',\n",
       " 'Warwick Bowen, given name Warwick Bowen, is a surname.',\n",
       " 'Frederick II, Duke of Swabia, was the brother of Gertrude of Babenberg, Duchess of Bohemia.',\n",
       " 'Engwiller is located in the UTC+2:00 time zone.',\n",
       " 'Gmina Boles ⁇ aw, D ⁇ browa County is located in the same county as Gmina Nowy Korczyn.',\n",
       " 'Huilong Township, Fujian is elevated +173 metres above sea level.',\n",
       " 'Carlo Pisacane was an Italian actor, who began his career on 18 June 1946 and ended it on 9 June 1974.',\n",
       " 'The administrative territory of Timiş County is Racovița, Timiş.',\n",
       " 'People from Casablanca are associated with the city.',\n",
       " 'Jacqui Smith was the Home Secretary from 28 June 2007 to 5 June 2009. Alan Johnson was the Home Secretary at the time of her retirement, replacing John Reid, Baron Reid of Cardowan.',\n",
       " 'Glinka , K ⁇ trzyn County is located in the UTC+02:00 UTC+02:00 daylight saving time zone.',\n",
       " 'Boomers ( TV series ) has 13 episodes.',\n",
       " 'Maik Franz played for the Germany national football B team, starting in 2002.',\n",
       " 'Robert Pack ( basketball ) is 188 cm tall.',\n",
       " 'The County of Anglesey, Victoria contains the administrative town of Dropmore.',\n",
       " 'Mirti ( Rome Metro ) has 2 platform faces.',\n",
       " 'Feliz Vaz plays for F.C. Famalic ⁇ o.',\n",
       " 'The population of Pua District is 64813.',\n",
       " 'The 41 Club was founded in 1936.',\n",
       " \"Kristinn Ingi Valsson (born 6 June 1985) is an Icelandic athlete who competed in the 2006 Winter Olympics in the men's slalom.\",\n",
       " 'The main topic of Barkly West is Barkly West.',\n",
       " 'Peter Osgood retired from football in 1980.',\n",
       " 'Nadim Kassar, whose given name is Nadim, is a human being.',\n",
       " \"Clemente Faccani's principal co-consecrators were Duraisamy Simon Lourdusamy and his co-consecrators were Clemente Faccani and his principal co-consecrators were Simon Lourdusamy and his principal co-consecrators were Duraisamy Simon Lourdusamy.\",\n",
       " 'Arthur Grass is a human being.',\n",
       " 'Léo Itaperuna Jiangxi Liansheng F.C. ended in 2015.',\n",
       " 'The patronage of Pajala Airport is +239.',\n",
       " 'Bunești is a tributary of Vâlsan.',\n",
       " 'Soko is a singer in Bye Bye Blondie.',\n",
       " 'Pelikansgrnd is 50 metres long.',\n",
       " 'The main topic of Byst ⁇ ec is Byst ⁇ ec.',\n",
       " 'The album Versus the World is the work of Amon Amarth and has a duration of 2869 seconds.',\n",
       " 'Porolithon is a genus of fish in the Corallinaceae family.',\n",
       " 'Wayne Hennessey began his career in 2006 with Bristol City FC.',\n",
       " 'The 1445mm track gauge is used on the Bologna trams.',\n",
       " 'William F. Bringle is the director of the United States Seventh Fleet.',\n",
       " 'Charlie-27 is a fictional character from the Marvel Universe.',\n",
       " 'An internal passport is an identity document.',\n",
       " 'Evan Dorkin was born April 20, 1965 in Brooklyn, United States. He is a comics artist, screenwriter and blogger.',\n",
       " 'Gazipur can also refer to: Gazipur, a village in the Indian state of Uttar Pradesh Gazipur, the name of a city in the United States Gazipur, an alternative name for the city of Gazipur, may also refer to:',\n",
       " 'William Holden had 3 children.',\n",
       " 'Punj Lloyd is in the business of providing services to clients.',\n",
       " 'The Singapore national football team has a ranking of 113.',\n",
       " 'The main category of a railroad worm is phisothrix.',\n",
       " 'Ayman al-Zawahiri started his career in 1951 and retired in 1990.',\n",
       " \"Ronald MacDonald ( athlete )'s weight is +64 kilogram.\",\n",
       " 'Milan Metro Line 3 San Donato (Milan Metro) started on May 12, 1991.',\n",
       " 'Marie-Christine Barrault was described by Obalky knih.cz.',\n",
       " 'Aleksei Vostrikov was born on January 4th 1992. He is a human being who has the ability to talk to a man.',\n",
       " 'Ed Harris was nominated for the BAFTA Award for Best Actor in a Supporting Role.',\n",
       " 'Ed Harris was nominated for the BAFTA Award for Best Actor in a Supporting Role.',\n",
       " 'Miradoux is located in the region of Plieux.',\n",
       " 'Risum-Lindholm is located in the UTC + 01:00 standard time zone.']"
      ]
     },
     "execution_count": 50,
     "metadata": {},
     "output_type": "execute_result"
    }
   ],
   "source": [
    "selected_sentences"
   ]
  },
  {
   "cell_type": "code",
   "execution_count": 31,
   "metadata": {},
   "outputs": [
    {
     "data": {
      "text/plain": [
       "'UTF-8'"
      ]
     },
     "execution_count": 31,
     "metadata": {},
     "output_type": "execute_result"
    }
   ],
   "source": [
    "import locale\n",
    "\n",
    "locale.getpreferredencoding()\n"
   ]
  },
  {
   "cell_type": "code",
   "execution_count": 51,
   "metadata": {},
   "outputs": [
    {
     "data": {
      "text/plain": [
       "'Plave ⁇  (Znojmo District) was described in Ott ⁇ v slovn ⁇ k nau ⁇ n ⁇ .'"
      ]
     },
     "execution_count": 51,
     "metadata": {},
     "output_type": "execute_result"
    }
   ],
   "source": [
    "selected_sentences[242] #.encode('utf-8').decode('utf-8')"
   ]
  },
  {
   "cell_type": "code",
   "execution_count": null,
   "metadata": {},
   "outputs": [],
   "source": []
  }
 ],
 "metadata": {
  "kernelspec": {
   "display_name": "crisis_lm",
   "language": "python",
   "name": "crisis_lm"
  },
  "language_info": {
   "codemirror_mode": {
    "name": "ipython",
    "version": 3
   },
   "file_extension": ".py",
   "mimetype": "text/x-python",
   "name": "python",
   "nbconvert_exporter": "python",
   "pygments_lexer": "ipython3",
   "version": "3.8.12"
  },
  "orig_nbformat": 4,
  "vscode": {
   "interpreter": {
    "hash": "3075aea6aaedcb3751c14613200d0e1344c1bf681850f20341e11d9c606e06fc"
   }
  }
 },
 "nbformat": 4,
 "nbformat_minor": 2
}
