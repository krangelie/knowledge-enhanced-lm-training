{
 "cells": [
  {
   "cell_type": "code",
   "execution_count": 1,
   "metadata": {},
   "outputs": [
    {
     "name": "stdout",
     "output_type": "stream",
     "text": [
      "Requirement already satisfied: jsonlines in /opt/homebrew/Caskroom/miniforge/base/envs/crisis_lm/lib/python3.8/site-packages (3.1.0)\n",
      "Requirement already satisfied: attrs>=19.2.0 in /opt/homebrew/Caskroom/miniforge/base/envs/crisis_lm/lib/python3.8/site-packages (from jsonlines) (21.4.0)\n",
      "Requirement already satisfied: sparqlwrapper in /opt/homebrew/Caskroom/miniforge/base/envs/crisis_lm/lib/python3.8/site-packages (2.0.0)\n",
      "Requirement already satisfied: rdflib>=6.1.1 in /opt/homebrew/Caskroom/miniforge/base/envs/crisis_lm/lib/python3.8/site-packages (from sparqlwrapper) (6.2.0)\n",
      "Requirement already satisfied: pyparsing in /opt/homebrew/Caskroom/miniforge/base/envs/crisis_lm/lib/python3.8/site-packages (from rdflib>=6.1.1->sparqlwrapper) (3.0.7)\n",
      "Requirement already satisfied: isodate in /opt/homebrew/Caskroom/miniforge/base/envs/crisis_lm/lib/python3.8/site-packages (from rdflib>=6.1.1->sparqlwrapper) (0.6.1)\n",
      "Requirement already satisfied: setuptools in /opt/homebrew/Caskroom/miniforge/base/envs/crisis_lm/lib/python3.8/site-packages (from rdflib>=6.1.1->sparqlwrapper) (60.5.0)\n",
      "Requirement already satisfied: six in /opt/homebrew/Caskroom/miniforge/base/envs/crisis_lm/lib/python3.8/site-packages (from isodate->rdflib>=6.1.1->sparqlwrapper) (1.16.0)\n",
      "Requirement already satisfied: tqdm in /opt/homebrew/Caskroom/miniforge/base/envs/crisis_lm/lib/python3.8/site-packages (4.64.1)\n"
     ]
    }
   ],
   "source": [
    "!pip install jsonlines\n",
    "!pip install sparqlwrapper\n",
    "!pip install tqdm\n",
    "\n",
    "import json\n",
    "\n",
    "from SPARQLWrapper import SPARQLWrapper, JSON\n",
    "import jsonlines\n",
    "import pandas as pd\n",
    "from tqdm import tqdm"
   ]
  },
  {
   "attachments": {},
   "cell_type": "markdown",
   "metadata": {},
   "source": [
    "# Analyze Wikidata gender distribution"
   ]
  },
  {
   "cell_type": "code",
   "execution_count": 3,
   "metadata": {},
   "outputs": [],
   "source": [
    "entity_path = \"../../wikidata_humans/wikidata_all_human_entities.jsonl\""
   ]
  },
  {
   "cell_type": "code",
   "execution_count": 4,
   "metadata": {
    "collapsed": false,
    "pycharm": {
     "name": "#%%\n"
    }
   },
   "outputs": [],
   "source": [
    "ids = []\n",
    "genders = []\n",
    "dobs = []\n",
    "pobs = []\n",
    "with open(entity_path) as json_file:\n",
    "    ent_list = list(json_file)\n",
    "\n",
    "for entry in ent_list:\n",
    "      entry = json.loads(entry)\n",
    "      ids += [entry[\"entity_id\"]]\n",
    "      genders += [entry[\"gender\"]]\n",
    "      dobs += [entry[\"DOB\"]]\n",
    "      pobs += [entry[\"POB\"]]\n"
   ]
  },
  {
   "attachments": {},
   "cell_type": "markdown",
   "metadata": {},
   "source": [
    "### a) Load gender map from json"
   ]
  },
  {
   "cell_type": "code",
   "execution_count": 5,
   "metadata": {},
   "outputs": [],
   "source": [
    "with open(\"wikidata_genders.json\", \"r\") as f:\n",
    "    gender_map = json.load(f)[\"map\"]"
   ]
  },
  {
   "attachments": {},
   "cell_type": "markdown",
   "metadata": {},
   "source": [
    "### b) Create gender map through SPARQL queries"
   ]
  },
  {
   "cell_type": "code",
   "execution_count": 5,
   "metadata": {},
   "outputs": [],
   "source": [
    "user_agent = 'AngelieKraftUHH (angelie.kraft@uni-hamburg.de)'\n",
    "sparql = SPARQLWrapper(\"https://query.wikidata.org/sparql\", agent=user_agent)"
   ]
  },
  {
   "cell_type": "code",
   "execution_count": 3,
   "metadata": {},
   "outputs": [],
   "source": [
    "gender_map = {}\n",
    "for g in list(set(genders)):\n",
    "    sparql.setQuery(f\"\"\"\n",
    "    SELECT  *\n",
    "    WHERE \n",
    "    {{\n",
    "        wd:{g} rdfs:label ?label .\n",
    "        FILTER (langMatches( lang(?label), \"EN\" ) )\n",
    "    }}\n",
    "    \"\"\")\n",
    "    sparql.setReturnFormat(JSON)\n",
    "    query_result = sparql.query().convert()\n",
    "\n",
    "    try:\n",
    "        gender_map[g] = query_result[\"results\"][\"bindings\"][0][\"label\"][\"value\"]\n",
    "    except:\n",
    "        pass\n",
    "  "
   ]
  },
  {
   "cell_type": "code",
   "execution_count": 4,
   "metadata": {},
   "outputs": [],
   "source": [
    "gender_map[\"\"] = \"unknown\""
   ]
  },
  {
   "attachments": {},
   "cell_type": "markdown",
   "metadata": {},
   "source": [
    "### Compute frequencies"
   ]
  },
  {
   "cell_type": "code",
   "execution_count": 6,
   "metadata": {},
   "outputs": [
    {
     "data": {
      "text/plain": [
       "{'male': 6140593,\n",
       " 'female': 1988367,\n",
       " 'trans woman': 1387,\n",
       " 'unknown': 2080255,\n",
       " 'non-binary': 588,\n",
       " 'trans man': 310,\n",
       " 'intersex': 76,\n",
       " 'faʻafafine': 5,\n",
       " 'hijra': 3,\n",
       " 'eunuch': 142,\n",
       " 'agender': 19,\n",
       " 'androgyne': 3,\n",
       " 'genderqueer': 39,\n",
       " 'undisclosed gender': 1,\n",
       " 'transgender': 24,\n",
       " 'genderfluid': 44,\n",
       " 'travesti': 4,\n",
       " 'cisgender female': 21,\n",
       " 'two-spirit': 16,\n",
       " 'transmasculine': 8,\n",
       " 'bigender': 6,\n",
       " 'assigned male at birth': 1,\n",
       " 'neutrois': 4,\n",
       " 'indefinite': 1,\n",
       " 'takatāpui': 3,\n",
       " 'female organism': 5,\n",
       " 'transfeminine': 6,\n",
       " 'Jamaica': 1,\n",
       " 'neutral sex': 5,\n",
       " 'muxe': 2,\n",
       " 'intersex person': 3,\n",
       " 'pangender': 1,\n",
       " 'queer': 1,\n",
       " 'Alien': 1,\n",
       " 'māhū': 1,\n",
       " 'X-gender': 1,\n",
       " 'demiboy': 1,\n",
       " \"'akava'ine\": 1,\n",
       " 'vakasalewalewa': 1,\n",
       " 'third gender': 1}"
      ]
     },
     "execution_count": 6,
     "metadata": {},
     "output_type": "execute_result"
    }
   ],
   "source": [
    "from collections import Counter\n",
    "\n",
    "genders_decoded = [gender_map[g] for g in genders]\n",
    "gender_frequencies = dict(Counter(genders_decoded))\n",
    "gender_frequencies"
   ]
  },
  {
   "attachments": {},
   "cell_type": "markdown",
   "metadata": {},
   "source": [
    "### Group certain gender groups for visualization"
   ]
  },
  {
   "cell_type": "code",
   "execution_count": 7,
   "metadata": {},
   "outputs": [],
   "source": [
    "keys = [\"female\", \"trans woman\", \"male\", \"trans man\", \"unknown\", \"non-binary/intersex/agender/other\"]\n",
    "grouped_frequencies = dict(zip(keys, [0]*len(keys)))\n",
    "for k,v in gender_frequencies.items():\n",
    "    if k in [\"trans woman\", \"trans man\", \"male\"]:\n",
    "        grouped_frequencies[k] += v\n",
    "    elif k in [\"female\", \"cisgender female\"]:\n",
    "        grouped_frequencies[\"female\"] += v\n",
    "    elif k in [\"unknown\", \"undisclosed gender\"]:\n",
    "        grouped_frequencies[\"unknown\"] += v\n",
    "    else:\n",
    "        grouped_frequencies[\"non-binary/intersex/agender/other\"] += v"
   ]
  },
  {
   "cell_type": "code",
   "execution_count": 8,
   "metadata": {},
   "outputs": [],
   "source": [
    "grouped_frequencies = {k: v for k, v in sorted(grouped_frequencies.items(), key=lambda item: item[1], reverse=True)}"
   ]
  },
  {
   "cell_type": "code",
   "execution_count": 12,
   "metadata": {},
   "outputs": [
    {
     "data": {
      "text/plain": [
       "{'male': 6140593,\n",
       " 'unknown': 2080256,\n",
       " 'female': 1988388,\n",
       " 'trans woman': 1387,\n",
       " 'non-binary/intersex/agender/other': 1017,\n",
       " 'trans man': 310}"
      ]
     },
     "execution_count": 12,
     "metadata": {},
     "output_type": "execute_result"
    }
   ],
   "source": [
    "grouped_frequencies"
   ]
  },
  {
   "cell_type": "code",
   "execution_count": 9,
   "metadata": {},
   "outputs": [
    {
     "name": "stdout",
     "output_type": "stream",
     "text": [
      "Requirement already satisfied: matplotlib in /opt/homebrew/Caskroom/miniforge/base/envs/crisis_lm/lib/python3.8/site-packages (3.6.3)\n",
      "Requirement already satisfied: seaborn in /opt/homebrew/Caskroom/miniforge/base/envs/crisis_lm/lib/python3.8/site-packages (0.12.2)\n",
      "Requirement already satisfied: python-dateutil>=2.7 in /opt/homebrew/Caskroom/miniforge/base/envs/crisis_lm/lib/python3.8/site-packages (from matplotlib) (2.8.2)\n",
      "Requirement already satisfied: pyparsing>=2.2.1 in /opt/homebrew/Caskroom/miniforge/base/envs/crisis_lm/lib/python3.8/site-packages (from matplotlib) (3.0.7)\n",
      "Requirement already satisfied: fonttools>=4.22.0 in /opt/homebrew/Caskroom/miniforge/base/envs/crisis_lm/lib/python3.8/site-packages (from matplotlib) (4.38.0)\n",
      "Requirement already satisfied: pillow>=6.2.0 in /opt/homebrew/Caskroom/miniforge/base/envs/crisis_lm/lib/python3.8/site-packages (from matplotlib) (9.4.0)\n",
      "Requirement already satisfied: contourpy>=1.0.1 in /opt/homebrew/Caskroom/miniforge/base/envs/crisis_lm/lib/python3.8/site-packages (from matplotlib) (1.0.7)\n",
      "Requirement already satisfied: packaging>=20.0 in /opt/homebrew/Caskroom/miniforge/base/envs/crisis_lm/lib/python3.8/site-packages (from matplotlib) (21.3)\n",
      "Requirement already satisfied: kiwisolver>=1.0.1 in /opt/homebrew/Caskroom/miniforge/base/envs/crisis_lm/lib/python3.8/site-packages (from matplotlib) (1.4.4)\n",
      "Requirement already satisfied: numpy>=1.19 in /opt/homebrew/Caskroom/miniforge/base/envs/crisis_lm/lib/python3.8/site-packages (from matplotlib) (1.22.1)\n",
      "Requirement already satisfied: cycler>=0.10 in /opt/homebrew/Caskroom/miniforge/base/envs/crisis_lm/lib/python3.8/site-packages (from matplotlib) (0.11.0)\n",
      "Requirement already satisfied: pandas>=0.25 in /opt/homebrew/Caskroom/miniforge/base/envs/crisis_lm/lib/python3.8/site-packages (from seaborn) (1.4.0)\n",
      "Requirement already satisfied: pytz>=2020.1 in /opt/homebrew/Caskroom/miniforge/base/envs/crisis_lm/lib/python3.8/site-packages (from pandas>=0.25->seaborn) (2021.3)\n",
      "Requirement already satisfied: six>=1.5 in /opt/homebrew/Caskroom/miniforge/base/envs/crisis_lm/lib/python3.8/site-packages (from python-dateutil>=2.7->matplotlib) (1.16.0)\n"
     ]
    }
   ],
   "source": [
    "\n",
    "!pip install matplotlib seaborn\n",
    "import matplotlib.pyplot as plt\n",
    "import seaborn as sns"
   ]
  },
  {
   "cell_type": "code",
   "execution_count": 14,
   "metadata": {},
   "outputs": [
    {
     "data": {
      "image/png": "[encoded data removed]",
      "text/plain": [
       "<Figure size 432x216 with 1 Axes>"
      ]
     },
     "metadata": {},
     "output_type": "display_data"
    }
   ],
   "source": [
    "import numpy as np\n",
    "fig, ax = plt.subplots(figsize=(6, 3), subplot_kw=dict(aspect=\"equal\"))\n",
    "total = sum(grouped_frequencies.values())\n",
    "labels = [\"/\\n\".join(k.split(\"/\")) for k, v in grouped_frequencies.items()]\n",
    "#labels = list(grouped_frequencies.keys())\n",
    "#sns.set(rc={'axes.facecolor':'black', 'figure.facecolor':'white'})\n",
    "def my_autopct(pct):\n",
    "    return ('%.0f' % pct) + \"%\" if pct > 1 else '<1%'\n",
    "explode = (0, 0, 0, 0.2, 0.2, 0.2)\n",
    "#plt.pie(grouped_frequencies.values(), labels=labels,  explode=[0.10]*len(grouped_frequencies), autopct=my_autopct)\n",
    "wedges, texts  = ax.pie(grouped_frequencies.values(), wedgeprops=dict(width=0.5), startangle=-40)\n",
    "\n",
    "kw = dict(arrowprops=dict(arrowstyle=\"-\"), va=\"center\")\n",
    "\n",
    "for i, p in enumerate(wedges):\n",
    "    ang = (p.theta2 - p.theta1)/2. + p.theta1\n",
    "    y = np.sin(np.deg2rad(ang))\n",
    "    x = np.cos(np.deg2rad(ang))\n",
    "    horizontalalignment = {-1: \"right\", 1: \"left\"}[int(np.sign(x))]\n",
    "    connectionstyle = \"angle,angleA=0,angleB={}\".format(ang)\n",
    "    kw[\"arrowprops\"].update({\"connectionstyle\": connectionstyle})\n",
    "    ax.annotate(f\"{labels[i]} {my_autopct(list(grouped_frequencies.values())[i] / total * 100)}\", xy=(x, y), xytext=(1.35*np.sign(x), 1.4*y),\n",
    "                horizontalalignment=horizontalalignment, **kw)\n",
    "\n",
    "#plt.legend(patches, labels, loc='left center', bbox_to_anchor=(-0.1, 1.),\n",
    "#           fontsize=8)\n",
    "plt.savefig('wikidata_gender_distr_Oct2022.png', dpi=300)\n",
    "plt.tight_layout()\n",
    "plt.show()"
   ]
  },
  {
   "cell_type": "code",
   "execution_count": 11,
   "metadata": {},
   "outputs": [],
   "source": [
    "save_dict = {}\n",
    "save_dict[\"map\"] = gender_map\n",
    "save_dict[\"frequencies\"] = gender_frequencies\n",
    "save_dict[\"grouped_frequencies\"] = grouped_frequencies\n",
    "\n",
    "with open(\"wikidata_genders.json\", \"w\") as f:\n",
    "    json.dump(save_dict, f)"
   ]
  },
  {
   "cell_type": "code",
   "execution_count": 6,
   "metadata": {
    "pycharm": {
     "name": "#%%\n"
    }
   },
   "outputs": [],
   "source": [
    "kelm_path = \"../../kelm/kelm_generated_corpus.jsonl\"\n",
    "kelm_entities_path = \"../../kelm/entities.jsonl\""
   ]
  }
 ],
 "metadata": {
  "kernelspec": {
   "display_name": "crisis_lm",
   "language": "python",
   "name": "python3"
  },
  "language_info": {
   "codemirror_mode": {
    "name": "ipython",
    "version": 3
   },
   "file_extension": ".py",
   "mimetype": "text/x-python",
   "name": "python",
   "nbconvert_exporter": "python",
   "pygments_lexer": "ipython3",
   "version": "3.8.12"
  },
  "orig_nbformat": 4,
  "vscode": {
   "interpreter": {
    "hash": "3075aea6aaedcb3751c14613200d0e1344c1bf681850f20341e11d9c606e06fc"
   }
  }
 },
 "nbformat": 4,
 "nbformat_minor": 2
}